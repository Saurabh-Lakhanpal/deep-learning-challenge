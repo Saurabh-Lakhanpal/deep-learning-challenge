{
  "cells": [
    {
      "cell_type": "markdown",
      "metadata": {
        "id": "EZ_PIGToBziC"
      },
      "source": [
        "Optimize the Model"
      ]
    },
    {
      "cell_type": "code",
      "execution_count": 1,
      "metadata": {
        "colab": {
          "base_uri": "https://localhost:8080/",
          "height": 445
        },
        "id": "yu2xIhVQBvlZ",
        "outputId": "861ef276-b263-43ba-a7da-fa9c9c38ddbe"
      },
      "outputs": [
        {
          "data": {
            "application/vnd.microsoft.datawrangler.viewer.v0+json": {
              "columns": [
                {
                  "name": "index",
                  "rawType": "int64",
                  "type": "integer"
                },
                {
                  "name": "EIN",
                  "rawType": "int64",
                  "type": "integer"
                },
                {
                  "name": "NAME",
                  "rawType": "object",
                  "type": "string"
                },
                {
                  "name": "APPLICATION_TYPE",
                  "rawType": "object",
                  "type": "string"
                },
                {
                  "name": "AFFILIATION",
                  "rawType": "object",
                  "type": "string"
                },
                {
                  "name": "CLASSIFICATION",
                  "rawType": "object",
                  "type": "string"
                },
                {
                  "name": "USE_CASE",
                  "rawType": "object",
                  "type": "string"
                },
                {
                  "name": "ORGANIZATION",
                  "rawType": "object",
                  "type": "string"
                },
                {
                  "name": "STATUS",
                  "rawType": "int64",
                  "type": "integer"
                },
                {
                  "name": "INCOME_AMT",
                  "rawType": "object",
                  "type": "string"
                },
                {
                  "name": "SPECIAL_CONSIDERATIONS",
                  "rawType": "object",
                  "type": "string"
                },
                {
                  "name": "ASK_AMT",
                  "rawType": "int64",
                  "type": "integer"
                },
                {
                  "name": "IS_SUCCESSFUL",
                  "rawType": "int64",
                  "type": "integer"
                }
              ],
              "conversionMethod": "pd.DataFrame",
              "ref": "89865af9-ec8d-41d0-8ec7-6e3d10b57c2c",
              "rows": [
                [
                  "0",
                  "10520599",
                  "BLUE KNIGHTS MOTORCYCLE CLUB",
                  "T10",
                  "Independent",
                  "C1000",
                  "ProductDev",
                  "Association",
                  "1",
                  "0",
                  "N",
                  "5000",
                  "1"
                ],
                [
                  "1",
                  "10531628",
                  "AMERICAN CHESAPEAKE CLUB CHARITABLE TR",
                  "T3",
                  "Independent",
                  "C2000",
                  "Preservation",
                  "Co-operative",
                  "1",
                  "1-9999",
                  "N",
                  "108590",
                  "1"
                ],
                [
                  "2",
                  "10547893",
                  "ST CLOUD PROFESSIONAL FIREFIGHTERS",
                  "T5",
                  "CompanySponsored",
                  "C3000",
                  "ProductDev",
                  "Association",
                  "1",
                  "0",
                  "N",
                  "5000",
                  "0"
                ],
                [
                  "3",
                  "10553066",
                  "SOUTHSIDE ATHLETIC ASSOCIATION",
                  "T3",
                  "CompanySponsored",
                  "C2000",
                  "Preservation",
                  "Trust",
                  "1",
                  "10000-24999",
                  "N",
                  "6692",
                  "1"
                ],
                [
                  "4",
                  "10556103",
                  "GENETIC RESEARCH INSTITUTE OF THE DESERT",
                  "T3",
                  "Independent",
                  "C1000",
                  "Heathcare",
                  "Trust",
                  "1",
                  "100000-499999",
                  "N",
                  "142590",
                  "1"
                ]
              ],
              "shape": {
                "columns": 12,
                "rows": 5
              }
            },
            "text/html": [
              "<div>\n",
              "<style scoped>\n",
              "    .dataframe tbody tr th:only-of-type {\n",
              "        vertical-align: middle;\n",
              "    }\n",
              "\n",
              "    .dataframe tbody tr th {\n",
              "        vertical-align: top;\n",
              "    }\n",
              "\n",
              "    .dataframe thead th {\n",
              "        text-align: right;\n",
              "    }\n",
              "</style>\n",
              "<table border=\"1\" class=\"dataframe\">\n",
              "  <thead>\n",
              "    <tr style=\"text-align: right;\">\n",
              "      <th></th>\n",
              "      <th>EIN</th>\n",
              "      <th>NAME</th>\n",
              "      <th>APPLICATION_TYPE</th>\n",
              "      <th>AFFILIATION</th>\n",
              "      <th>CLASSIFICATION</th>\n",
              "      <th>USE_CASE</th>\n",
              "      <th>ORGANIZATION</th>\n",
              "      <th>STATUS</th>\n",
              "      <th>INCOME_AMT</th>\n",
              "      <th>SPECIAL_CONSIDERATIONS</th>\n",
              "      <th>ASK_AMT</th>\n",
              "      <th>IS_SUCCESSFUL</th>\n",
              "    </tr>\n",
              "  </thead>\n",
              "  <tbody>\n",
              "    <tr>\n",
              "      <th>0</th>\n",
              "      <td>10520599</td>\n",
              "      <td>BLUE KNIGHTS MOTORCYCLE CLUB</td>\n",
              "      <td>T10</td>\n",
              "      <td>Independent</td>\n",
              "      <td>C1000</td>\n",
              "      <td>ProductDev</td>\n",
              "      <td>Association</td>\n",
              "      <td>1</td>\n",
              "      <td>0</td>\n",
              "      <td>N</td>\n",
              "      <td>5000</td>\n",
              "      <td>1</td>\n",
              "    </tr>\n",
              "    <tr>\n",
              "      <th>1</th>\n",
              "      <td>10531628</td>\n",
              "      <td>AMERICAN CHESAPEAKE CLUB CHARITABLE TR</td>\n",
              "      <td>T3</td>\n",
              "      <td>Independent</td>\n",
              "      <td>C2000</td>\n",
              "      <td>Preservation</td>\n",
              "      <td>Co-operative</td>\n",
              "      <td>1</td>\n",
              "      <td>1-9999</td>\n",
              "      <td>N</td>\n",
              "      <td>108590</td>\n",
              "      <td>1</td>\n",
              "    </tr>\n",
              "    <tr>\n",
              "      <th>2</th>\n",
              "      <td>10547893</td>\n",
              "      <td>ST CLOUD PROFESSIONAL FIREFIGHTERS</td>\n",
              "      <td>T5</td>\n",
              "      <td>CompanySponsored</td>\n",
              "      <td>C3000</td>\n",
              "      <td>ProductDev</td>\n",
              "      <td>Association</td>\n",
              "      <td>1</td>\n",
              "      <td>0</td>\n",
              "      <td>N</td>\n",
              "      <td>5000</td>\n",
              "      <td>0</td>\n",
              "    </tr>\n",
              "    <tr>\n",
              "      <th>3</th>\n",
              "      <td>10553066</td>\n",
              "      <td>SOUTHSIDE ATHLETIC ASSOCIATION</td>\n",
              "      <td>T3</td>\n",
              "      <td>CompanySponsored</td>\n",
              "      <td>C2000</td>\n",
              "      <td>Preservation</td>\n",
              "      <td>Trust</td>\n",
              "      <td>1</td>\n",
              "      <td>10000-24999</td>\n",
              "      <td>N</td>\n",
              "      <td>6692</td>\n",
              "      <td>1</td>\n",
              "    </tr>\n",
              "    <tr>\n",
              "      <th>4</th>\n",
              "      <td>10556103</td>\n",
              "      <td>GENETIC RESEARCH INSTITUTE OF THE DESERT</td>\n",
              "      <td>T3</td>\n",
              "      <td>Independent</td>\n",
              "      <td>C1000</td>\n",
              "      <td>Heathcare</td>\n",
              "      <td>Trust</td>\n",
              "      <td>1</td>\n",
              "      <td>100000-499999</td>\n",
              "      <td>N</td>\n",
              "      <td>142590</td>\n",
              "      <td>1</td>\n",
              "    </tr>\n",
              "  </tbody>\n",
              "</table>\n",
              "</div>"
            ],
            "text/plain": [
              "        EIN                                      NAME APPLICATION_TYPE  \\\n",
              "0  10520599              BLUE KNIGHTS MOTORCYCLE CLUB              T10   \n",
              "1  10531628    AMERICAN CHESAPEAKE CLUB CHARITABLE TR               T3   \n",
              "2  10547893        ST CLOUD PROFESSIONAL FIREFIGHTERS               T5   \n",
              "3  10553066            SOUTHSIDE ATHLETIC ASSOCIATION               T3   \n",
              "4  10556103  GENETIC RESEARCH INSTITUTE OF THE DESERT               T3   \n",
              "\n",
              "        AFFILIATION CLASSIFICATION      USE_CASE  ORGANIZATION  STATUS  \\\n",
              "0       Independent          C1000    ProductDev   Association       1   \n",
              "1       Independent          C2000  Preservation  Co-operative       1   \n",
              "2  CompanySponsored          C3000    ProductDev   Association       1   \n",
              "3  CompanySponsored          C2000  Preservation         Trust       1   \n",
              "4       Independent          C1000     Heathcare         Trust       1   \n",
              "\n",
              "      INCOME_AMT SPECIAL_CONSIDERATIONS  ASK_AMT  IS_SUCCESSFUL  \n",
              "0              0                      N     5000              1  \n",
              "1         1-9999                      N   108590              1  \n",
              "2              0                      N     5000              0  \n",
              "3    10000-24999                      N     6692              1  \n",
              "4  100000-499999                      N   142590              1  "
            ]
          },
          "execution_count": 1,
          "metadata": {},
          "output_type": "execute_result"
        }
      ],
      "source": [
        "# Import our dependencies\n",
        "from sklearn.model_selection import train_test_split\n",
        "from sklearn.preprocessing import StandardScaler\n",
        "import pandas as pd\n",
        "import tensorflow as tf\n",
        "\n",
        "#  Import and read the charity_data.csv.\n",
        "import pandas as pd\n",
        "application_df = pd.read_csv(\"https://static.bc-edx.com/data/dl-1-2/m21/lms/starter/charity_data.csv\")\n",
        "application_df.head()"
      ]
    },
    {
      "cell_type": "code",
      "execution_count": 2,
      "metadata": {
        "colab": {
          "base_uri": "https://localhost:8080/",
          "height": 176
        },
        "id": "pApd1m06CsHr",
        "outputId": "3548389d-8201-4de2-a1d6-8da750bf1b3e"
      },
      "outputs": [
        {
          "data": {
            "text/plain": [
              "STATUS\n",
              "1    34294\n",
              "0        5\n",
              "Name: count, dtype: int64"
            ]
          },
          "execution_count": 2,
          "metadata": {},
          "output_type": "execute_result"
        }
      ],
      "source": [
        "# value counts for status column (to be dropped)\n",
        "application_df[\"STATUS\"].value_counts()"
      ]
    },
    {
      "cell_type": "code",
      "execution_count": 3,
      "metadata": {
        "colab": {
          "base_uri": "https://localhost:8080/",
          "height": 176
        },
        "id": "-V579H4vC6xU",
        "outputId": "1de3ec13-8f87-4469-e209-c67a20eb61ee"
      },
      "outputs": [
        {
          "data": {
            "text/plain": [
              "SPECIAL_CONSIDERATIONS\n",
              "N    34272\n",
              "Y       27\n",
              "Name: count, dtype: int64"
            ]
          },
          "execution_count": 3,
          "metadata": {},
          "output_type": "execute_result"
        }
      ],
      "source": [
        "# value counts for special considerations column (to be dropped\n",
        "application_df[\"SPECIAL_CONSIDERATIONS\"].value_counts()"
      ]
    },
    {
      "cell_type": "markdown",
      "metadata": {
        "id": "Hyv3xiNzDKZe"
      },
      "source": [
        "STATUS and SPECIAL CONSIDERATIONS can be dropped since there are small percentages of projects that are in the minority categories"
      ]
    },
    {
      "cell_type": "code",
      "execution_count": 4,
      "metadata": {
        "colab": {
          "base_uri": "https://localhost:8080/",
          "height": 250
        },
        "id": "7USSiVfFCwcS",
        "outputId": "fee5d81a-6343-475b-b8b9-638842478d2c"
      },
      "outputs": [
        {
          "data": {
            "application/vnd.microsoft.datawrangler.viewer.v0+json": {
              "columns": [
                {
                  "name": "index",
                  "rawType": "int64",
                  "type": "integer"
                },
                {
                  "name": "NAME",
                  "rawType": "object",
                  "type": "string"
                },
                {
                  "name": "APPLICATION_TYPE",
                  "rawType": "object",
                  "type": "string"
                },
                {
                  "name": "AFFILIATION",
                  "rawType": "object",
                  "type": "string"
                },
                {
                  "name": "CLASSIFICATION",
                  "rawType": "object",
                  "type": "string"
                },
                {
                  "name": "USE_CASE",
                  "rawType": "object",
                  "type": "string"
                },
                {
                  "name": "ORGANIZATION",
                  "rawType": "object",
                  "type": "string"
                },
                {
                  "name": "INCOME_AMT",
                  "rawType": "object",
                  "type": "string"
                },
                {
                  "name": "ASK_AMT",
                  "rawType": "int64",
                  "type": "integer"
                },
                {
                  "name": "IS_SUCCESSFUL",
                  "rawType": "int64",
                  "type": "integer"
                }
              ],
              "conversionMethod": "pd.DataFrame",
              "ref": "ea3b50f3-4618-49a1-981d-13698189299a",
              "rows": [
                [
                  "0",
                  "BLUE KNIGHTS MOTORCYCLE CLUB",
                  "T10",
                  "Independent",
                  "C1000",
                  "ProductDev",
                  "Association",
                  "0",
                  "5000",
                  "1"
                ],
                [
                  "1",
                  "AMERICAN CHESAPEAKE CLUB CHARITABLE TR",
                  "T3",
                  "Independent",
                  "C2000",
                  "Preservation",
                  "Co-operative",
                  "1-9999",
                  "108590",
                  "1"
                ]
              ],
              "shape": {
                "columns": 9,
                "rows": 2
              }
            },
            "text/html": [
              "<div>\n",
              "<style scoped>\n",
              "    .dataframe tbody tr th:only-of-type {\n",
              "        vertical-align: middle;\n",
              "    }\n",
              "\n",
              "    .dataframe tbody tr th {\n",
              "        vertical-align: top;\n",
              "    }\n",
              "\n",
              "    .dataframe thead th {\n",
              "        text-align: right;\n",
              "    }\n",
              "</style>\n",
              "<table border=\"1\" class=\"dataframe\">\n",
              "  <thead>\n",
              "    <tr style=\"text-align: right;\">\n",
              "      <th></th>\n",
              "      <th>NAME</th>\n",
              "      <th>APPLICATION_TYPE</th>\n",
              "      <th>AFFILIATION</th>\n",
              "      <th>CLASSIFICATION</th>\n",
              "      <th>USE_CASE</th>\n",
              "      <th>ORGANIZATION</th>\n",
              "      <th>INCOME_AMT</th>\n",
              "      <th>ASK_AMT</th>\n",
              "      <th>IS_SUCCESSFUL</th>\n",
              "    </tr>\n",
              "  </thead>\n",
              "  <tbody>\n",
              "    <tr>\n",
              "      <th>0</th>\n",
              "      <td>BLUE KNIGHTS MOTORCYCLE CLUB</td>\n",
              "      <td>T10</td>\n",
              "      <td>Independent</td>\n",
              "      <td>C1000</td>\n",
              "      <td>ProductDev</td>\n",
              "      <td>Association</td>\n",
              "      <td>0</td>\n",
              "      <td>5000</td>\n",
              "      <td>1</td>\n",
              "    </tr>\n",
              "    <tr>\n",
              "      <th>1</th>\n",
              "      <td>AMERICAN CHESAPEAKE CLUB CHARITABLE TR</td>\n",
              "      <td>T3</td>\n",
              "      <td>Independent</td>\n",
              "      <td>C2000</td>\n",
              "      <td>Preservation</td>\n",
              "      <td>Co-operative</td>\n",
              "      <td>1-9999</td>\n",
              "      <td>108590</td>\n",
              "      <td>1</td>\n",
              "    </tr>\n",
              "  </tbody>\n",
              "</table>\n",
              "</div>"
            ],
            "text/plain": [
              "                                     NAME APPLICATION_TYPE  AFFILIATION  \\\n",
              "0            BLUE KNIGHTS MOTORCYCLE CLUB              T10  Independent   \n",
              "1  AMERICAN CHESAPEAKE CLUB CHARITABLE TR               T3  Independent   \n",
              "\n",
              "  CLASSIFICATION      USE_CASE  ORGANIZATION INCOME_AMT  ASK_AMT  \\\n",
              "0          C1000    ProductDev   Association          0     5000   \n",
              "1          C2000  Preservation  Co-operative     1-9999   108590   \n",
              "\n",
              "   IS_SUCCESSFUL  \n",
              "0              1  \n",
              "1              1  "
            ]
          },
          "execution_count": 4,
          "metadata": {},
          "output_type": "execute_result"
        }
      ],
      "source": [
        "# Drop the non-beneficial EIN column\n",
        "application_df = application_df.drop([\"EIN\"], axis=1)\n",
        "application_df = application_df.drop([\"STATUS\"], axis=1)\n",
        "application_df = application_df.drop([\"SPECIAL_CONSIDERATIONS\"], axis=1)\n",
        "application_df.head(2)"
      ]
    },
    {
      "cell_type": "code",
      "execution_count": 5,
      "metadata": {
        "colab": {
          "base_uri": "https://localhost:8080/",
          "height": 362
        },
        "id": "1I7MzmjKDapN",
        "outputId": "dc11bcf6-a403-4b5f-9513-dde60841b78c"
      },
      "outputs": [
        {
          "data": {
            "text/plain": [
              "NAME                19568\n",
              "APPLICATION_TYPE       17\n",
              "AFFILIATION             6\n",
              "CLASSIFICATION         71\n",
              "USE_CASE                5\n",
              "ORGANIZATION            4\n",
              "INCOME_AMT              9\n",
              "ASK_AMT              8747\n",
              "IS_SUCCESSFUL           2\n",
              "dtype: int64"
            ]
          },
          "execution_count": 5,
          "metadata": {},
          "output_type": "execute_result"
        }
      ],
      "source": [
        "# display the number of unique values in each column.\n",
        "application_df.nunique()"
      ]
    },
    {
      "cell_type": "code",
      "execution_count": 6,
      "metadata": {
        "colab": {
          "base_uri": "https://localhost:8080/",
          "height": 484
        },
        "id": "ejyLPyx6Efz5",
        "outputId": "970acd9e-e596-4982-df68-a733310d0256"
      },
      "outputs": [
        {
          "data": {
            "text/plain": [
              "NAME\n",
              "PARENT BOOSTER USA INC                             1260\n",
              "TOPS CLUB INC                                       765\n",
              "UNITED STATES BOWLING CONGRESS INC                  700\n",
              "WASHINGTON STATE UNIVERSITY                         492\n",
              "AMATEUR ATHLETIC UNION OF THE UNITED STATES INC     408\n",
              "                                                   ... \n",
              "OLD OAK CLIFF CONSERVATION LEAGUE INC                 6\n",
              "AMERICAN NEPHROLOGY NURSES ASSOCIATION                6\n",
              "HUMBLE ISD EDUCATIONAL SUPPORT GROUPS INC             6\n",
              "PROFESSIONAL LOADMASTER ASSOCIATION                   6\n",
              "CBMC INC                                              6\n",
              "Name: count, Length: 354, dtype: int64"
            ]
          },
          "execution_count": 6,
          "metadata": {},
          "output_type": "execute_result"
        }
      ],
      "source": [
        "# Look at NAME value counts for binning\n",
        "name_counts = application_df[\"NAME\"].value_counts()\n",
        "# How many name counts are greater thatn 5?\n",
        "name_counts[name_counts > 5]"
      ]
    },
    {
      "cell_type": "code",
      "execution_count": 7,
      "metadata": {
        "colab": {
          "base_uri": "https://localhost:8080/",
          "height": 484
        },
        "id": "VVCnLELNExPX",
        "outputId": "3e3a36b2-a05f-4f33-fada-c2cf07238d21"
      },
      "outputs": [
        {
          "data": {
            "text/plain": [
              "NAME\n",
              "Other                                           20043\n",
              "PARENT BOOSTER USA INC                           1260\n",
              "TOPS CLUB INC                                     765\n",
              "UNITED STATES BOWLING CONGRESS INC                700\n",
              "WASHINGTON STATE UNIVERSITY                       492\n",
              "                                                ...  \n",
              "HABITAT FOR HUMANITY INTERNATIONAL                  6\n",
              "DAMAGE PREVENTION COUNCIL OF TEXAS                  6\n",
              "FLEET RESERVE ASSOCIATION                           6\n",
              "HUGH OBRIAN YOUTH LEADERSHIP                        6\n",
              "INTERNATIONAL CONGRESS OF CHURCHES MINISTERS        6\n",
              "Name: count, Length: 355, dtype: int64"
            ]
          },
          "execution_count": 7,
          "metadata": {},
          "output_type": "execute_result"
        }
      ],
      "source": [
        "# Determine which values to replace if counts are less than or equal to 5\n",
        "names_to_replace = list(name_counts[name_counts <= 5].index)\n",
        "\n",
        "# Replace in dataframe\n",
        "for app in names_to_replace:\n",
        "  application_df['NAME'] = application_df['NAME'].replace(app,\"Other\")\n",
        "\n",
        "# Check to make sure biing was successful\n",
        "application_df['NAME'].value_counts()"
      ]
    },
    {
      "cell_type": "code",
      "execution_count": 8,
      "metadata": {
        "colab": {
          "base_uri": "https://localhost:8080/",
          "height": 641
        },
        "id": "b9VY1oRfF9z7",
        "outputId": "0f5f379f-06f1-4605-e3b9-7a1e905550fc"
      },
      "outputs": [
        {
          "data": {
            "text/plain": [
              "APPLICATION_TYPE\n",
              "T3     27037\n",
              "T4      1542\n",
              "T6      1216\n",
              "T5      1173\n",
              "T19     1065\n",
              "T8       737\n",
              "T7       725\n",
              "T10      528\n",
              "T9       156\n",
              "T13       66\n",
              "T12       27\n",
              "T2        16\n",
              "T25        3\n",
              "T14        3\n",
              "T29        2\n",
              "T15        2\n",
              "T17        1\n",
              "Name: count, dtype: int64"
            ]
          },
          "execution_count": 8,
          "metadata": {},
          "output_type": "execute_result"
        }
      ],
      "source": [
        "# Look at APPLICATION_TYPE value counts for binning\n",
        "application_counts = application_df[\"APPLICATION_TYPE\"].value_counts()\n",
        "application_counts"
      ]
    },
    {
      "cell_type": "markdown",
      "metadata": {
        "id": "V5Ong_l_GXBG"
      },
      "source": [
        "Suggested cutoff will be 500, anything less will be binned into 'Other'"
      ]
    },
    {
      "cell_type": "code",
      "execution_count": 9,
      "metadata": {
        "colab": {
          "base_uri": "https://localhost:8080/",
          "height": 393
        },
        "id": "97FkqhuMGRmE",
        "outputId": "9c2b2f14-f433-4bb2-cc5d-184e0f82f888"
      },
      "outputs": [
        {
          "data": {
            "text/plain": [
              "APPLICATION_TYPE\n",
              "T3       27037\n",
              "T4        1542\n",
              "T6        1216\n",
              "T5        1173\n",
              "T19       1065\n",
              "T8         737\n",
              "T7         725\n",
              "T10        528\n",
              "Other      276\n",
              "Name: count, dtype: int64"
            ]
          },
          "execution_count": 9,
          "metadata": {},
          "output_type": "execute_result"
        }
      ],
      "source": [
        "# Determine which values to replace if application counts are less than 500\n",
        "application_types_to_replace = list(application_counts[application_counts < 500].index)\n",
        "\n",
        "# Replace in dataframe\n",
        "for app in application_types_to_replace:\n",
        "    application_df['APPLICATION_TYPE'] = application_df['APPLICATION_TYPE'].replace(app,\"Other\")\n",
        "\n",
        "# Check to make sure binning was successful\n",
        "application_df['APPLICATION_TYPE'].value_counts()"
      ]
    },
    {
      "cell_type": "code",
      "execution_count": 10,
      "metadata": {
        "colab": {
          "base_uri": "https://localhost:8080/",
          "height": 484
        },
        "id": "3WXMXQY3Gp8w",
        "outputId": "92bb1ffa-a25d-49ce-cd4c-5ae8316a4ea3"
      },
      "outputs": [
        {
          "data": {
            "text/plain": [
              "CLASSIFICATION\n",
              "C1000    17326\n",
              "C2000     6074\n",
              "C1200     4837\n",
              "C3000     1918\n",
              "C2100     1883\n",
              "         ...  \n",
              "C4120        1\n",
              "C8210        1\n",
              "C2561        1\n",
              "C4500        1\n",
              "C2150        1\n",
              "Name: count, Length: 71, dtype: int64"
            ]
          },
          "execution_count": 10,
          "metadata": {},
          "output_type": "execute_result"
        }
      ],
      "source": [
        "# Look at CLASSIFICATION value counts for binning\n",
        "class_counts = application_df[\"CLASSIFICATION\"].value_counts()\n",
        "class_counts"
      ]
    },
    {
      "cell_type": "code",
      "execution_count": 11,
      "metadata": {
        "colab": {
          "base_uri": "https://localhost:8080/",
          "height": 300
        },
        "id": "CBdqNtCBHLXf",
        "outputId": "0976f539-d35d-43d8-a4e2-5ef3c25b0a1b"
      },
      "outputs": [
        {
          "data": {
            "text/plain": [
              "CLASSIFICATION\n",
              "C1000    17326\n",
              "C2000     6074\n",
              "C1200     4837\n",
              "Other     2261\n",
              "C3000     1918\n",
              "C2100     1883\n",
              "Name: count, dtype: int64"
            ]
          },
          "execution_count": 11,
          "metadata": {},
          "output_type": "execute_result"
        }
      ],
      "source": [
        "# Determine which values to replace if counts are less than 1000\n",
        "classifications_to_replace = list(class_counts[class_counts < 1000].index)\n",
        "\n",
        "# Replace in dataframe\n",
        "for cls in classifications_to_replace:\n",
        "  application_df[\"CLASSIFICATION\"] = application_df[\"CLASSIFICATION\"].replace(cls,\"Other\")\n",
        "\n",
        "# Check to make sure binning was successful\n",
        "application_df[\"CLASSIFICATION\"].value_counts()"
      ]
    },
    {
      "cell_type": "code",
      "execution_count": 12,
      "metadata": {
        "colab": {
          "base_uri": "https://localhost:8080/"
        },
        "id": "vwSgGtB7HJHM",
        "outputId": "51e7e5cb-2cf3-423a-b55e-631bcbdf9fbc"
      },
      "outputs": [
        {
          "data": {
            "text/plain": [
              "['NAME',\n",
              " 'APPLICATION_TYPE',\n",
              " 'AFFILIATION',\n",
              " 'CLASSIFICATION',\n",
              " 'USE_CASE',\n",
              " 'ORGANIZATION',\n",
              " 'INCOME_AMT']"
            ]
          },
          "execution_count": 12,
          "metadata": {},
          "output_type": "execute_result"
        }
      ],
      "source": [
        "# Generate our categorical variable lists\n",
        "application_cat = application_df.dtypes[application_df.dtypes == \"object\"].index.tolist()\n",
        "application_cat"
      ]
    },
    {
      "cell_type": "code",
      "execution_count": 13,
      "metadata": {
        "colab": {
          "base_uri": "https://localhost:8080/",
          "height": 276
        },
        "id": "ETOcKQjkIgqS",
        "outputId": "37162ea6-c168-4736-e272-cba71b13c7c4"
      },
      "outputs": [
        {
          "data": {
            "application/vnd.microsoft.datawrangler.viewer.v0+json": {
              "columns": [
                {
                  "name": "index",
                  "rawType": "int64",
                  "type": "integer"
                },
                {
                  "name": "ASK_AMT",
                  "rawType": "int64",
                  "type": "integer"
                },
                {
                  "name": "IS_SUCCESSFUL",
                  "rawType": "int64",
                  "type": "integer"
                },
                {
                  "name": "NAME_AACE INTERNATIONAL",
                  "rawType": "bool",
                  "type": "boolean"
                },
                {
                  "name": "NAME_ACE MENTOR PROGRAM OF AMERICA INC",
                  "rawType": "bool",
                  "type": "boolean"
                },
                {
                  "name": "NAME_AFRICAN-AMERICAN POSTAL LEAGUE UNITED FOR SUCCESS A-PLUS",
                  "rawType": "bool",
                  "type": "boolean"
                },
                {
                  "name": "NAME_AIR FORCE ASSOCIATION",
                  "rawType": "bool",
                  "type": "boolean"
                },
                {
                  "name": "NAME_ALABAMA FEDERATION OF WOMENS CLUBS",
                  "rawType": "bool",
                  "type": "boolean"
                },
                {
                  "name": "NAME_ALABAMA TREASURE FOREST ASSOCIATION",
                  "rawType": "bool",
                  "type": "boolean"
                },
                {
                  "name": "NAME_ALBANY STATE UNIVERSITY NATIONAL ALUMNI ASSOCIATION",
                  "rawType": "bool",
                  "type": "boolean"
                },
                {
                  "name": "NAME_ALPHA PHI OMEGA",
                  "rawType": "bool",
                  "type": "boolean"
                },
                {
                  "name": "NAME_ALPHA PHI SIGMA",
                  "rawType": "bool",
                  "type": "boolean"
                },
                {
                  "name": "NAME_ALPHA PHI SIGMA INC",
                  "rawType": "bool",
                  "type": "boolean"
                },
                {
                  "name": "NAME_ALPHA SIGMA PHI FRATERNITY INC",
                  "rawType": "bool",
                  "type": "boolean"
                },
                {
                  "name": "NAME_ALTRUSA INTERNATIONAL FOUNDATION INC",
                  "rawType": "bool",
                  "type": "boolean"
                },
                {
                  "name": "NAME_AMATEUR ATHLETIC UNION OF THE UNITED STATES",
                  "rawType": "bool",
                  "type": "boolean"
                },
                {
                  "name": "NAME_AMATEUR ATHLETIC UNION OF THE UNITED STATES INC",
                  "rawType": "bool",
                  "type": "boolean"
                },
                {
                  "name": "NAME_AMERICAN ART THERAPY ASSOCIATION INC",
                  "rawType": "bool",
                  "type": "boolean"
                },
                {
                  "name": "NAME_AMERICAN ASSOCIATION OF UNIVERSITY WOMEN",
                  "rawType": "bool",
                  "type": "boolean"
                },
                {
                  "name": "NAME_AMERICAN ASSOCIATION OF UNIVERSITY WOMEN INC",
                  "rawType": "bool",
                  "type": "boolean"
                },
                {
                  "name": "NAME_AMERICAN CHEMICAL SOCIETY",
                  "rawType": "bool",
                  "type": "boolean"
                },
                {
                  "name": "NAME_AMERICAN CHRISTIAN FICTION WRITERS INC",
                  "rawType": "bool",
                  "type": "boolean"
                },
                {
                  "name": "NAME_AMERICAN COLLEGE OF HEALTHCARE EXECUTIVES",
                  "rawType": "bool",
                  "type": "boolean"
                },
                {
                  "name": "NAME_AMERICAN COLLEGE OF NURSE-MIDWIVES",
                  "rawType": "bool",
                  "type": "boolean"
                },
                {
                  "name": "NAME_AMERICAN FEDERATION OF GOVERNMENT EMPLOYEES",
                  "rawType": "bool",
                  "type": "boolean"
                },
                {
                  "name": "NAME_AMERICAN FEDERATION OF LABOR & CONGRESS OF INDUSTRIAL ORGS",
                  "rawType": "bool",
                  "type": "boolean"
                },
                {
                  "name": "NAME_AMERICAN FEDERATION OF LABOR AND CONGRESS OF INDUSTRIAL ORGS",
                  "rawType": "bool",
                  "type": "boolean"
                },
                {
                  "name": "NAME_AMERICAN FEDERATION OF STATE COUNTY & MUNICIPAL EMPLOYEES",
                  "rawType": "bool",
                  "type": "boolean"
                },
                {
                  "name": "NAME_AMERICAN HIBISCUS",
                  "rawType": "bool",
                  "type": "boolean"
                },
                {
                  "name": "NAME_AMERICAN INDEPENDENT BUSINESS ALLIANCE",
                  "rawType": "bool",
                  "type": "boolean"
                },
                {
                  "name": "NAME_AMERICAN INSTITUTE OF GRAPHIC ARTS",
                  "rawType": "bool",
                  "type": "boolean"
                },
                {
                  "name": "NAME_AMERICAN IRIS SOCIETY",
                  "rawType": "bool",
                  "type": "boolean"
                },
                {
                  "name": "NAME_AMERICAN LEGION",
                  "rawType": "bool",
                  "type": "boolean"
                },
                {
                  "name": "NAME_AMERICAN LEGION AUXILIARY",
                  "rawType": "bool",
                  "type": "boolean"
                },
                {
                  "name": "NAME_AMERICAN NEPHROLOGY NURSES ASSOCIATION",
                  "rawType": "bool",
                  "type": "boolean"
                },
                {
                  "name": "NAME_AMERICAN POSTAL WORKERS UNION",
                  "rawType": "bool",
                  "type": "boolean"
                },
                {
                  "name": "NAME_AMERICAN SOCIETY OF ADDICTION MEDICINE INC",
                  "rawType": "bool",
                  "type": "boolean"
                },
                {
                  "name": "NAME_AMERICAN STUDENT DENTAL ASSOCIATION",
                  "rawType": "bool",
                  "type": "boolean"
                },
                {
                  "name": "NAME_AMERICAN VOLKSSPORT ASSOCIATION INC",
                  "rawType": "bool",
                  "type": "boolean"
                },
                {
                  "name": "NAME_AMERICAN WATER WORKS ASSOCIATION",
                  "rawType": "bool",
                  "type": "boolean"
                },
                {
                  "name": "NAME_AMERICAN YOUTH FOOTBALL INC",
                  "rawType": "bool",
                  "type": "boolean"
                },
                {
                  "name": "NAME_AMERICANS UNITED FOR SEPARATION OF CHURCH AND STATE",
                  "rawType": "bool",
                  "type": "boolean"
                },
                {
                  "name": "NAME_AMIGOS DE LAS AMERICAS",
                  "rawType": "bool",
                  "type": "boolean"
                },
                {
                  "name": "NAME_AMVETS",
                  "rawType": "bool",
                  "type": "boolean"
                },
                {
                  "name": "NAME_ANCIENT AND FREE ACCEPTED MASONS OF MISSOURI",
                  "rawType": "bool",
                  "type": "boolean"
                },
                {
                  "name": "NAME_ANCIENT FREE & ACCEPTED MASONS OF KANSAS",
                  "rawType": "bool",
                  "type": "boolean"
                },
                {
                  "name": "NAME_ARIZONA FEDERATION OF GARDEN CLUBS",
                  "rawType": "bool",
                  "type": "boolean"
                },
                {
                  "name": "NAME_ASIAN PACIFIC AMERICAN INTERNAL REVENUE EMPLOYEES",
                  "rawType": "bool",
                  "type": "boolean"
                },
                {
                  "name": "NAME_ASSOCIATES OF VIETNAM VETERANS OF AMERICA INC",
                  "rawType": "bool",
                  "type": "boolean"
                },
                {
                  "name": "NAME_ASSOCIATION FOR PROFESSIONALS IN INFECTION CTRL & EPIDEMIOLOGY INC",
                  "rawType": "bool",
                  "type": "boolean"
                },
                {
                  "name": "NAME_ASSOCIATION FOR VASCULAR ACCESS",
                  "rawType": "bool",
                  "type": "boolean"
                },
                {
                  "name": "NAME_ASSOCIATION OF CIVILIAN TECHNICIANS INC",
                  "rawType": "bool",
                  "type": "boolean"
                },
                {
                  "name": "NAME_ASSOCIATION OF CLINICAL RESEARCH PROFESSIONALS",
                  "rawType": "bool",
                  "type": "boolean"
                },
                {
                  "name": "NAME_ASSOCIATION OF OPERATING ROOM NURSES INC",
                  "rawType": "bool",
                  "type": "boolean"
                },
                {
                  "name": "NAME_ASSOCIATION OF PROFESSIONAL GENEALOGISTS",
                  "rawType": "bool",
                  "type": "boolean"
                },
                {
                  "name": "NAME_ASSOCIATION OF SCHOOL BOOSTER CLUBS",
                  "rawType": "bool",
                  "type": "boolean"
                },
                {
                  "name": "NAME_ASSOCIATION OF TRADITIONAL HOOKING ARTISTS",
                  "rawType": "bool",
                  "type": "boolean"
                },
                {
                  "name": "NAME_BABYWEARING INTERNATIONAL INC",
                  "rawType": "bool",
                  "type": "boolean"
                },
                {
                  "name": "NAME_BARNABAS GROUP INC",
                  "rawType": "bool",
                  "type": "boolean"
                },
                {
                  "name": "NAME_BEAVERHEAD COUNTY 4-H FOUNDATION",
                  "rawType": "bool",
                  "type": "boolean"
                },
                {
                  "name": "NAME_BEREAVED PARENTS OF THE USA",
                  "rawType": "bool",
                  "type": "boolean"
                },
                {
                  "name": "NAME_BETA BETA BETA BIOLOGICAL SOCIETY",
                  "rawType": "bool",
                  "type": "boolean"
                },
                {
                  "name": "NAME_BETTER WORLD FUND",
                  "rawType": "bool",
                  "type": "boolean"
                },
                {
                  "name": "NAME_BLUE KNIGHTS MOTORCYCLE CLUB",
                  "rawType": "bool",
                  "type": "boolean"
                },
                {
                  "name": "NAME_BOY SCOUTS OF AMERICA",
                  "rawType": "bool",
                  "type": "boolean"
                },
                {
                  "name": "NAME_BOYS TEAM CHARITY INC",
                  "rawType": "bool",
                  "type": "boolean"
                },
                {
                  "name": "NAME_CAJUN FRENCH MUSIC ASSOCIATION OF LOUISIANA INC",
                  "rawType": "bool",
                  "type": "boolean"
                },
                {
                  "name": "NAME_CALIFORNIA ASSOCIATION FOR THE EDUCATION OF YOUNG CHILDREN",
                  "rawType": "bool",
                  "type": "boolean"
                },
                {
                  "name": "NAME_CALIFORNIA FEDERATION OF WOMENS CLUBS",
                  "rawType": "bool",
                  "type": "boolean"
                },
                {
                  "name": "NAME_CALIFORNIA GARDEN CLUBS INC",
                  "rawType": "bool",
                  "type": "boolean"
                },
                {
                  "name": "NAME_CALIFORNIA HIGHWAY PATROL EXPLORER PROGRAM",
                  "rawType": "bool",
                  "type": "boolean"
                },
                {
                  "name": "NAME_CALIFORNIA STATE CHAPER WOMENS COUNCIL OF REALTORS",
                  "rawType": "bool",
                  "type": "boolean"
                },
                {
                  "name": "NAME_CALIFORNIA STATE UNIVERSITY EMPLOYEES UNION",
                  "rawType": "bool",
                  "type": "boolean"
                },
                {
                  "name": "NAME_CALIFORNIA TEACHERS ASSOCIATION",
                  "rawType": "bool",
                  "type": "boolean"
                },
                {
                  "name": "NAME_CALIFORNIA WOMENS CHORUS",
                  "rawType": "bool",
                  "type": "boolean"
                },
                {
                  "name": "NAME_CASCADE 4-H FOUNDATION",
                  "rawType": "bool",
                  "type": "boolean"
                },
                {
                  "name": "NAME_CBMC INC",
                  "rawType": "bool",
                  "type": "boolean"
                },
                {
                  "name": "NAME_CENTERS FOR SPIRITUAL LIVING",
                  "rawType": "bool",
                  "type": "boolean"
                },
                {
                  "name": "NAME_CHEVRON RETIREES ASSOCIATION",
                  "rawType": "bool",
                  "type": "boolean"
                },
                {
                  "name": "NAME_CHIEF WARRANT & WARRANT OFFICERS ASSOCIATION U S COAST GUARD",
                  "rawType": "bool",
                  "type": "boolean"
                },
                {
                  "name": "NAME_CHRISTIAN MEDICAL & DENTAL SOCIETY",
                  "rawType": "bool",
                  "type": "boolean"
                },
                {
                  "name": "NAME_CIRCLE K INTERNATIONAL INC",
                  "rawType": "bool",
                  "type": "boolean"
                },
                {
                  "name": "NAME_CISD EDUCATIONAL SUPPORT GROUPS INC",
                  "rawType": "bool",
                  "type": "boolean"
                },
                {
                  "name": "NAME_CIVITAN INTERNATIONAL",
                  "rawType": "bool",
                  "type": "boolean"
                },
                {
                  "name": "NAME_CLEAR CREEK ISD GROUPS",
                  "rawType": "bool",
                  "type": "boolean"
                },
                {
                  "name": "NAME_CLEARCREEK I S D SUPPORT GROUPS",
                  "rawType": "bool",
                  "type": "boolean"
                },
                {
                  "name": "NAME_COLLEGE AND UNIVERSITY PROFESSIONAL ASSOCIATION FOR HUMAN RESOURCES",
                  "rawType": "bool",
                  "type": "boolean"
                },
                {
                  "name": "NAME_COMMUNICATION WORKERS OF AMERICA",
                  "rawType": "bool",
                  "type": "boolean"
                },
                {
                  "name": "NAME_CONCERNS OF POLICE SURVIVORS",
                  "rawType": "bool",
                  "type": "boolean"
                },
                {
                  "name": "NAME_CONSTRUCTION OWNERS ASSOCIATION OF AMERICA INC",
                  "rawType": "bool",
                  "type": "boolean"
                },
                {
                  "name": "NAME_CREATIVE OPPORTUNITIES UNLIMITED",
                  "rawType": "bool",
                  "type": "boolean"
                },
                {
                  "name": "NAME_DAMAGE PREVENTION COUNCIL OF TEXAS",
                  "rawType": "bool",
                  "type": "boolean"
                },
                {
                  "name": "NAME_DAUGHTERS OF CHARITY HEALTH SYSTEM",
                  "rawType": "bool",
                  "type": "boolean"
                },
                {
                  "name": "NAME_DAUGHTERS OF ESTHER FELLOWSHIP INTERNATIONAL MINISTRIES INC",
                  "rawType": "bool",
                  "type": "boolean"
                },
                {
                  "name": "NAME_DAUGHTERS OF UNION VETERANS OF THE CIVIL WAR 1861-1865",
                  "rawType": "bool",
                  "type": "boolean"
                },
                {
                  "name": "NAME_DELTA KAPPA GAMMA SOCIETY INTERNATIONAL",
                  "rawType": "bool",
                  "type": "boolean"
                },
                {
                  "name": "NAME_DEMOLAY INTERNATIONAL",
                  "rawType": "bool",
                  "type": "boolean"
                },
                {
                  "name": "NAME_DEPARTMENT OF ALABAMA AUXILIARY TO THE VFW OF THE U S",
                  "rawType": "bool",
                  "type": "boolean"
                },
                {
                  "name": "NAME_DEPARTMENT OF ALABAMA VETERANS OF FOREIGN WARS OF THE UNITED STATES",
                  "rawType": "bool",
                  "type": "boolean"
                },
                {
                  "name": "NAME_DEPARTMENT OF KANSAS LADIES AUXILIARY TO THE VFW OF THE US INC",
                  "rawType": "bool",
                  "type": "boolean"
                },
                {
                  "name": "NAME_DEPARTMENT OF MONTANA LADIES AUXILIARY TO THE VFW OF THE U S",
                  "rawType": "bool",
                  "type": "boolean"
                },
                {
                  "name": "NAME_DEPARTMENT OF NEVADA VETERANS OF FOREIGN WARS OF THE U S INC",
                  "rawType": "bool",
                  "type": "boolean"
                },
                {
                  "name": "NAME_DEPARTMENT OF NEW MEXICO VETERANS OF FOREIGN WARS OF THE US AUXILIAR",
                  "rawType": "bool",
                  "type": "boolean"
                },
                {
                  "name": "NAME_DEPARTMENT OF OREGON LADIES AUXILIARY TO THE VFW OF THE U S",
                  "rawType": "bool",
                  "type": "boolean"
                },
                {
                  "name": "NAME_DEPARTMENT OF OREGON LADIES AUXILLARY TO THE VFW OF THE US",
                  "rawType": "bool",
                  "type": "boolean"
                },
                {
                  "name": "NAME_DEPARTMENT OF UTAH LADIES AUXILIARY TO THE VETERANS OF FOREIGN WARS OF",
                  "rawType": "bool",
                  "type": "boolean"
                },
                {
                  "name": "NAME_DEPARTMENT OF WYOMING VFW AUXILIARY",
                  "rawType": "bool",
                  "type": "boolean"
                },
                {
                  "name": "NAME_DEPT OF GEORGIA LADIES AUXILIARY TO THE VFW OF THE UNITED STATES",
                  "rawType": "bool",
                  "type": "boolean"
                },
                {
                  "name": "NAME_DISABLED AMERICAN VETERANS",
                  "rawType": "bool",
                  "type": "boolean"
                },
                {
                  "name": "NAME_DISABLED AMERICAN VETERANS AUXILIARY INC",
                  "rawType": "bool",
                  "type": "boolean"
                },
                {
                  "name": "NAME_DISTRICT 21 AMERICAN CONTRACT BRIDGE LEAGUE",
                  "rawType": "bool",
                  "type": "boolean"
                },
                {
                  "name": "NAME_DOBERMAN PINSCHER CLUB OF AMERICA",
                  "rawType": "bool",
                  "type": "boolean"
                },
                {
                  "name": "NAME_EAST VIEW SPORTS COALITION",
                  "rawType": "bool",
                  "type": "boolean"
                },
                {
                  "name": "NAME_EMERGENCY NURSES ASSOCIATION",
                  "rawType": "bool",
                  "type": "boolean"
                },
                {
                  "name": "NAME_EMMAUS CALLING INC",
                  "rawType": "bool",
                  "type": "boolean"
                },
                {
                  "name": "NAME_ESCAPEES SOCIAL NETWORK",
                  "rawType": "bool",
                  "type": "boolean"
                },
                {
                  "name": "NAME_EXECUTIVE WOMENS GOLF ASSOCIATION INC",
                  "rawType": "bool",
                  "type": "boolean"
                },
                {
                  "name": "NAME_FALLON COUNTY 4-H COUNCIL",
                  "rawType": "bool",
                  "type": "boolean"
                },
                {
                  "name": "NAME_FAMILY CAREER AND COMMUNITY LEADERS OF AMERICA INC",
                  "rawType": "bool",
                  "type": "boolean"
                },
                {
                  "name": "NAME_FARMERS EDUCATIONAL AND COOPERATIVE UNION OF AMERICA",
                  "rawType": "bool",
                  "type": "boolean"
                },
                {
                  "name": "NAME_FBI NATIONAL CITIZENS ACADEMY ALUMNI ASSOCIATION INC",
                  "rawType": "bool",
                  "type": "boolean"
                },
                {
                  "name": "NAME_FELLOWSHIP OF CHRISTIAN COWBOYS INC",
                  "rawType": "bool",
                  "type": "boolean"
                },
                {
                  "name": "NAME_FINANCIAL PLANNING ASSOCIATION",
                  "rawType": "bool",
                  "type": "boolean"
                },
                {
                  "name": "NAME_FLEET RESERVE ASSOCIATION",
                  "rawType": "bool",
                  "type": "boolean"
                },
                {
                  "name": "NAME_FLORIDA GOVERNMENT FINANCE OFFICERS ASSOCIATION INC",
                  "rawType": "bool",
                  "type": "boolean"
                },
                {
                  "name": "NAME_FLORIDA STATE UNIVERSITY ALUMNI ASSOCIATION",
                  "rawType": "bool",
                  "type": "boolean"
                },
                {
                  "name": "NAME_FRATERNAL ORDER OF EAGLES",
                  "rawType": "bool",
                  "type": "boolean"
                },
                {
                  "name": "NAME_FRATERNAL ORDER OF POLICE",
                  "rawType": "bool",
                  "type": "boolean"
                },
                {
                  "name": "NAME_FREE & ACCEPTED MASONS OF CALIFORNIA",
                  "rawType": "bool",
                  "type": "boolean"
                },
                {
                  "name": "NAME_FREE & ACCEPTED MASONS OF GEORGIA",
                  "rawType": "bool",
                  "type": "boolean"
                },
                {
                  "name": "NAME_FREE & ACCEPTED MASONS OF TENNESSEE",
                  "rawType": "bool",
                  "type": "boolean"
                },
                {
                  "name": "NAME_FREE & ACCEPTED MASONS OF WASHINGTON",
                  "rawType": "bool",
                  "type": "boolean"
                },
                {
                  "name": "NAME_FULBRIGHT ASSOCIATION INC",
                  "rawType": "bool",
                  "type": "boolean"
                },
                {
                  "name": "NAME_FULL GOSPEL BUSINESS MENS FELLOWSHIP IN AMERICA",
                  "rawType": "bool",
                  "type": "boolean"
                },
                {
                  "name": "NAME_FUTURE FARMERS OF AMERICA AND ITS STATE ASSOCIATIONS & LOCAL CHAPTER",
                  "rawType": "bool",
                  "type": "boolean"
                },
                {
                  "name": "NAME_FUTURE FARMERS OF AMERICA STATE ASSOCIATIONS & LOCAL CHAPTER",
                  "rawType": "bool",
                  "type": "boolean"
                },
                {
                  "name": "NAME_GAMMA THETA UPSILON",
                  "rawType": "bool",
                  "type": "boolean"
                },
                {
                  "name": "NAME_GENERAL FEDERATION OF WOMENS CLUB",
                  "rawType": "bool",
                  "type": "boolean"
                },
                {
                  "name": "NAME_GENERAL FEDERATION OF WOMENS CLUBS ARIZONA INC",
                  "rawType": "bool",
                  "type": "boolean"
                },
                {
                  "name": "NAME_GEORGIA EXTENSION 4-H FOUNDATION",
                  "rawType": "bool",
                  "type": "boolean"
                },
                {
                  "name": "NAME_GLOBAL SPORTS ALLIANCE INC",
                  "rawType": "bool",
                  "type": "boolean"
                },
                {
                  "name": "NAME_GOLD WING ROAD RIDERS ASSOCIATION",
                  "rawType": "bool",
                  "type": "boolean"
                },
                {
                  "name": "NAME_GRANGE OF THE STATE OF CA ORDER OF PATRONS OF HUSBANDRY CHARTER",
                  "rawType": "bool",
                  "type": "boolean"
                },
                {
                  "name": "NAME_HABITAT FOR HUMANITY INTERNATIONAL",
                  "rawType": "bool",
                  "type": "boolean"
                },
                {
                  "name": "NAME_HABITAT FOR HUMANITY INTERNATIONAL INC",
                  "rawType": "bool",
                  "type": "boolean"
                },
                {
                  "name": "NAME_HANDS FOR LIFE",
                  "rawType": "bool",
                  "type": "boolean"
                },
                {
                  "name": "NAME_HEALTH CARE FOR ALL-CALIFORNIA",
                  "rawType": "bool",
                  "type": "boolean"
                },
                {
                  "name": "NAME_HEARING LOSS ASSOCIATION OF AMERICA INC",
                  "rawType": "bool",
                  "type": "boolean"
                },
                {
                  "name": "NAME_HOLIDAY RAMBLER RECREATIONAL VECHICLE CLUB INC",
                  "rawType": "bool",
                  "type": "boolean"
                },
                {
                  "name": "NAME_HOLIDAY RAMBLER RECREATIONAL VEHICLE CLUB INC",
                  "rawType": "bool",
                  "type": "boolean"
                },
                {
                  "name": "NAME_HONOR SOCIETY OF PHI KAPPA PHI",
                  "rawType": "bool",
                  "type": "boolean"
                },
                {
                  "name": "NAME_HOUSTON SQUARE & ROUND DANCE COUNCIL",
                  "rawType": "bool",
                  "type": "boolean"
                },
                {
                  "name": "NAME_HUGH OBRIAN YOUTH LEADERSHIP",
                  "rawType": "bool",
                  "type": "boolean"
                },
                {
                  "name": "NAME_HUMBLE ISD EDUCATIONAL SUPPORT GROUPS INC",
                  "rawType": "bool",
                  "type": "boolean"
                },
                {
                  "name": "NAME_ICE AGE FLOODS INSTITUTE",
                  "rawType": "bool",
                  "type": "boolean"
                },
                {
                  "name": "NAME_INDEPENDENT ELECTRICAL CONTRACTORS INC",
                  "rawType": "bool",
                  "type": "boolean"
                },
                {
                  "name": "NAME_INDEPENDENT ORDER OF ODD FELLOWS",
                  "rawType": "bool",
                  "type": "boolean"
                },
                {
                  "name": "NAME_INFRAGARD NATIONAL MEMBERS ALLIANCE INC",
                  "rawType": "bool",
                  "type": "boolean"
                },
                {
                  "name": "NAME_INTERNATIONAL ASSOCIATION FOR PUBLIC PARTICIPATION USA",
                  "rawType": "bool",
                  "type": "boolean"
                },
                {
                  "name": "NAME_INTERNATIONAL ASSOCIATION OF FIRE FIGHTERS",
                  "rawType": "bool",
                  "type": "boolean"
                },
                {
                  "name": "NAME_INTERNATIONAL ASSOCIATION OF JEWISH GENEALOGICAL SOCIETIES INC",
                  "rawType": "bool",
                  "type": "boolean"
                },
                {
                  "name": "NAME_INTERNATIONAL ASSOCIATION OF LIONS CLUB",
                  "rawType": "bool",
                  "type": "boolean"
                },
                {
                  "name": "NAME_INTERNATIONAL ASSOCIATION OF LIONS CLUBS",
                  "rawType": "bool",
                  "type": "boolean"
                },
                {
                  "name": "NAME_INTERNATIONAL ASSOCIATION OF MACHINISTS & AEROSPACE WORKERS",
                  "rawType": "bool",
                  "type": "boolean"
                },
                {
                  "name": "NAME_INTERNATIONAL ASSOCIATION OF SHEET METAL AIR RAIL & TRANSPORTATION",
                  "rawType": "bool",
                  "type": "boolean"
                },
                {
                  "name": "NAME_INTERNATIONAL BROTHERHOOD OF ELECTRICAL WORKERS",
                  "rawType": "bool",
                  "type": "boolean"
                },
                {
                  "name": "NAME_INTERNATIONAL CONGRESS OF CHURCHES AND MINISTERS",
                  "rawType": "bool",
                  "type": "boolean"
                },
                {
                  "name": "NAME_INTERNATIONAL CONGRESS OF CHURCHES MINISTERS",
                  "rawType": "bool",
                  "type": "boolean"
                },
                {
                  "name": "NAME_INTERNATIONAL FEDERATION OF FLY FISHERS INC",
                  "rawType": "bool",
                  "type": "boolean"
                },
                {
                  "name": "NAME_INTERNATIONAL MOUNTAIN BICYCLING ASSOCIATION - COLORADO",
                  "rawType": "bool",
                  "type": "boolean"
                },
                {
                  "name": "NAME_INTERNATIONAL ORDER OF THE RAINBOW GIRLS",
                  "rawType": "bool",
                  "type": "boolean"
                },
                {
                  "name": "NAME_INTERNATIONAL SOCIETY DAUGHTERS OF UTAH PIONEERS",
                  "rawType": "bool",
                  "type": "boolean"
                },
                {
                  "name": "NAME_JACKSONVILLE DISTRICT COUNCIL SOCIETY OF ST VINCENT DE PAUL INC",
                  "rawType": "bool",
                  "type": "boolean"
                },
                {
                  "name": "NAME_JAMESTOWNE SOCIETY",
                  "rawType": "bool",
                  "type": "boolean"
                },
                {
                  "name": "NAME_JAPANESE AMERICAN CITIZENS LEAGUE",
                  "rawType": "bool",
                  "type": "boolean"
                },
                {
                  "name": "NAME_KAPPA KAPPA PSI FRATERNITY",
                  "rawType": "bool",
                  "type": "boolean"
                },
                {
                  "name": "NAME_KIRKWOOD SCHOOL DISTRICT PARENT TEACHER ORGANIZATIONAL COUNCIL",
                  "rawType": "bool",
                  "type": "boolean"
                },
                {
                  "name": "NAME_KIWANIS INTERNATIONAL",
                  "rawType": "bool",
                  "type": "boolean"
                },
                {
                  "name": "NAME_KIWANIS INTERNATIONAL INC",
                  "rawType": "bool",
                  "type": "boolean"
                },
                {
                  "name": "NAME_KLEIN SUPPORT GROUPS INC",
                  "rawType": "bool",
                  "type": "boolean"
                },
                {
                  "name": "NAME_KNIGHTS OF COLUMBUS",
                  "rawType": "bool",
                  "type": "boolean"
                },
                {
                  "name": "NAME_KNIGHTS TEMPLAR OF THE UNITED STATES OF AMERICA",
                  "rawType": "bool",
                  "type": "boolean"
                },
                {
                  "name": "NAME_LA LECHE LEAGUE INTERNATIONAL INC",
                  "rawType": "bool",
                  "type": "boolean"
                },
                {
                  "name": "NAME_LA LECHE LEAGUE OF WASHINGTON",
                  "rawType": "bool",
                  "type": "boolean"
                },
                {
                  "name": "NAME_LAKE TRABIS ATHLETIC BOOSTER CLUB INC",
                  "rawType": "bool",
                  "type": "boolean"
                },
                {
                  "name": "NAME_LAMBDA THETA ALPHA",
                  "rawType": "bool",
                  "type": "boolean"
                },
                {
                  "name": "NAME_LEWIS AND CLARK TRAIL HERITAGE FOUNDATION INC",
                  "rawType": "bool",
                  "type": "boolean"
                },
                {
                  "name": "NAME_LITTLE LEAGUE BASEBALL INC",
                  "rawType": "bool",
                  "type": "boolean"
                },
                {
                  "name": "NAME_LOUISIANA 4-H FOUNDATION",
                  "rawType": "bool",
                  "type": "boolean"
                },
                {
                  "name": "NAME_LOUISIANA GARDEN CLUB FEDERATION",
                  "rawType": "bool",
                  "type": "boolean"
                },
                {
                  "name": "NAME_LOUSIANA GARDEN CLUB FEDERATION INC",
                  "rawType": "bool",
                  "type": "boolean"
                },
                {
                  "name": "NAME_M W PRINCE HALL GRAND LODGE FREE AND ACCEPTED MASONS OF LOUISIANA",
                  "rawType": "bool",
                  "type": "boolean"
                },
                {
                  "name": "NAME_MARINE CORPS LEAGUE",
                  "rawType": "bool",
                  "type": "boolean"
                },
                {
                  "name": "NAME_MASTER GARDENER ASSOCIATION",
                  "rawType": "bool",
                  "type": "boolean"
                },
                {
                  "name": "NAME_MENNONITE DISASTER SERVICE",
                  "rawType": "bool",
                  "type": "boolean"
                },
                {
                  "name": "NAME_MILITARY ORDER OF THE WORLD WARS",
                  "rawType": "bool",
                  "type": "boolean"
                },
                {
                  "name": "NAME_MODERN QUILT GUILD INC",
                  "rawType": "bool",
                  "type": "boolean"
                },
                {
                  "name": "NAME_MOMS CLUB",
                  "rawType": "bool",
                  "type": "boolean"
                },
                {
                  "name": "NAME_MONTANA 4-H FOUNDATION INC",
                  "rawType": "bool",
                  "type": "boolean"
                },
                {
                  "name": "NAME_MONTANA CONGRESS OF PARENTS TEACHERS STUDENTS",
                  "rawType": "bool",
                  "type": "boolean"
                },
                {
                  "name": "NAME_MOST WORSHIPFUL STRINGER FREE AND ACCEPTED MASONS",
                  "rawType": "bool",
                  "type": "boolean"
                },
                {
                  "name": "NAME_MUSIC TEACHERS NATIONAL ASSOCIATION INC",
                  "rawType": "bool",
                  "type": "boolean"
                },
                {
                  "name": "NAME_MYTEAM TRIUMPH INC",
                  "rawType": "bool",
                  "type": "boolean"
                },
                {
                  "name": "NAME_NATIONAL ASSOCIATION OF CHARITABLE GIFT PLANNERS",
                  "rawType": "bool",
                  "type": "boolean"
                },
                {
                  "name": "NAME_NATIONAL ASSOCIATION OF CORPORATE DIRECTORS",
                  "rawType": "bool",
                  "type": "boolean"
                },
                {
                  "name": "NAME_NATIONAL ASSOCIATION OF HISPANIC NURSES",
                  "rawType": "bool",
                  "type": "boolean"
                },
                {
                  "name": "NAME_NATIONAL ASSOCIATION OF LETTER CARRIERS",
                  "rawType": "bool",
                  "type": "boolean"
                },
                {
                  "name": "NAME_NATIONAL ASSOCIATION OF SCHOLARS",
                  "rawType": "bool",
                  "type": "boolean"
                },
                {
                  "name": "NAME_NATIONAL ASSOCIATION OF TEACHERS OF SINGING INC",
                  "rawType": "bool",
                  "type": "boolean"
                },
                {
                  "name": "NAME_NATIONAL CHARITY LEAGUE",
                  "rawType": "bool",
                  "type": "boolean"
                },
                {
                  "name": "NAME_NATIONAL CHARITY LEAGUE INC",
                  "rawType": "bool",
                  "type": "boolean"
                },
                {
                  "name": "NAME_NATIONAL CHRISTIAN CHARITABLE FOUNDATION INC",
                  "rawType": "bool",
                  "type": "boolean"
                },
                {
                  "name": "NAME_NATIONAL COUNCIL FOR GEOCOSMIC RESEARCH INC",
                  "rawType": "bool",
                  "type": "boolean"
                },
                {
                  "name": "NAME_NATIONAL COUNCIL OF JEWISH WOMEN INCORPORATED",
                  "rawType": "bool",
                  "type": "boolean"
                },
                {
                  "name": "NAME_NATIONAL COUNCIL OF NEGRO WOMEN INC",
                  "rawType": "bool",
                  "type": "boolean"
                },
                {
                  "name": "NAME_NATIONAL COUNCIL OF TEACHERS OF ENGLISH",
                  "rawType": "bool",
                  "type": "boolean"
                },
                {
                  "name": "NAME_NATIONAL FEDERATION OF MUSIC CLUBS",
                  "rawType": "bool",
                  "type": "boolean"
                },
                {
                  "name": "NAME_NATIONAL INSTITUTE OF GOVERNMENTAL PURCHASING INC",
                  "rawType": "bool",
                  "type": "boolean"
                },
                {
                  "name": "NAME_NATIONAL KAPPA KAPPA IOTA INC",
                  "rawType": "bool",
                  "type": "boolean"
                },
                {
                  "name": "NAME_NATIONAL KITCHEN & BATH ASSOC",
                  "rawType": "bool",
                  "type": "boolean"
                },
                {
                  "name": "NAME_NATIONAL LEAGUE OF AMERICAN PEN WOMEN INC",
                  "rawType": "bool",
                  "type": "boolean"
                },
                {
                  "name": "NAME_NATIONAL LEAGUE OF YOUNG MEN INC",
                  "rawType": "bool",
                  "type": "boolean"
                },
                {
                  "name": "NAME_NATIONAL NETWORK OF ABORTION FUNDS",
                  "rawType": "bool",
                  "type": "boolean"
                },
                {
                  "name": "NAME_NATIONAL RURAL LETTER CARRIERS ASSOCIATION",
                  "rawType": "bool",
                  "type": "boolean"
                },
                {
                  "name": "NAME_NATIONAL SOCIETY COLONIAL DAUGHTERS OF THE SEVENTEENTH CENTURY",
                  "rawType": "bool",
                  "type": "boolean"
                },
                {
                  "name": "NAME_NATIONAL SOCIETY DAUGHTERS OF COLONIAL WARS INC",
                  "rawType": "bool",
                  "type": "boolean"
                },
                {
                  "name": "NAME_NATIONAL SOCIETY DAUGHTERS OF THE BRITISH EMPIRE IN THE UNITED STATE",
                  "rawType": "bool",
                  "type": "boolean"
                },
                {
                  "name": "NAME_NATIONAL SOCIETY OF THE DAUGHTERS OF THE AMERICAN REVOLUTION",
                  "rawType": "bool",
                  "type": "boolean"
                },
                {
                  "name": "NAME_NATIONAL SOCIETY OF THE SONS OF THE AMERICAN REVOLUTION",
                  "rawType": "bool",
                  "type": "boolean"
                },
                {
                  "name": "NAME_NATIONAL YOUNG MENS SERVICE LEAGUE",
                  "rawType": "bool",
                  "type": "boolean"
                },
                {
                  "name": "NAME_NATL SOCIETY WOMEN DESCENDANTS OF THE ANCIENT & HONORABLE ARTILLERY",
                  "rawType": "bool",
                  "type": "boolean"
                },
                {
                  "name": "NAME_NATURAL MEN AND NATURAL WOMEN ORGANIZATION INC",
                  "rawType": "bool",
                  "type": "boolean"
                },
                {
                  "name": "NAME_NEW MEXICO GARDEN CLUBS INC",
                  "rawType": "bool",
                  "type": "boolean"
                },
                {
                  "name": "NAME_NU RHO PSI-THE NATIONAL HONOR SOCIETY IN NEUROSCIENCE",
                  "rawType": "bool",
                  "type": "boolean"
                },
                {
                  "name": "NAME_OFFICE AND PROFESSIONAL EMPLOYEES INTERNATIONAL UNION",
                  "rawType": "bool",
                  "type": "boolean"
                },
                {
                  "name": "NAME_OLD OAK CLIFF CONSERVATION LEAGUE INC",
                  "rawType": "bool",
                  "type": "boolean"
                },
                {
                  "name": "NAME_OPTIMIST INTERNATIONAL",
                  "rawType": "bool",
                  "type": "boolean"
                },
                {
                  "name": "NAME_ORDER OF THE AMARANTH INC",
                  "rawType": "bool",
                  "type": "boolean"
                },
                {
                  "name": "NAME_OREGON 4-H FOUNDATION",
                  "rawType": "bool",
                  "type": "boolean"
                },
                {
                  "name": "NAME_OREGON EDUCATION ASSOCIATION",
                  "rawType": "bool",
                  "type": "boolean"
                },
                {
                  "name": "NAME_Other",
                  "rawType": "bool",
                  "type": "boolean"
                },
                {
                  "name": "NAME_PAGAN PRIDE PROJECT INC",
                  "rawType": "bool",
                  "type": "boolean"
                },
                {
                  "name": "NAME_PARENT BOOSTER USA INC",
                  "rawType": "bool",
                  "type": "boolean"
                },
                {
                  "name": "NAME_PARENTS OF MURDERED CHILDREN",
                  "rawType": "bool",
                  "type": "boolean"
                },
                {
                  "name": "NAME_PEARLAND LADY OILER GOLF BOOSTER CLUB",
                  "rawType": "bool",
                  "type": "boolean"
                },
                {
                  "name": "NAME_PHI BETA PSI SORORITY",
                  "rawType": "bool",
                  "type": "boolean"
                },
                {
                  "name": "NAME_PHI DELTA EPSILON MEDICAL FRATERNITY INC",
                  "rawType": "bool",
                  "type": "boolean"
                },
                {
                  "name": "NAME_PHI ETA SIGMA NATIONAL HONOR SOCIETY INC",
                  "rawType": "bool",
                  "type": "boolean"
                },
                {
                  "name": "NAME_POP WARNER LITTLE SCHOLARS INC",
                  "rawType": "bool",
                  "type": "boolean"
                },
                {
                  "name": "NAME_PROFESSIONAL LOADMASTER ASSOCIATION",
                  "rawType": "bool",
                  "type": "boolean"
                },
                {
                  "name": "NAME_PROJECT MANAGEMENT INSTITUTE",
                  "rawType": "bool",
                  "type": "boolean"
                },
                {
                  "name": "NAME_PTA CALIFORNIA CONGRESS OF PARENTS TEACHERS & STUDENTS INC",
                  "rawType": "bool",
                  "type": "boolean"
                },
                {
                  "name": "NAME_PTA FLORIDA CONGRESS",
                  "rawType": "bool",
                  "type": "boolean"
                },
                {
                  "name": "NAME_PTA OKLAHOMA CONGRESS",
                  "rawType": "bool",
                  "type": "boolean"
                },
                {
                  "name": "NAME_PTA TEXAS CONGRESS",
                  "rawType": "bool",
                  "type": "boolean"
                },
                {
                  "name": "NAME_PTA UTAH CONGRESS",
                  "rawType": "bool",
                  "type": "boolean"
                },
                {
                  "name": "NAME_PUBLIC RELATIONS COUNCIL OF ALABAMA",
                  "rawType": "bool",
                  "type": "boolean"
                },
                {
                  "name": "NAME_QUAIL FEDERATION INC",
                  "rawType": "bool",
                  "type": "boolean"
                },
                {
                  "name": "NAME_QUOTA CLUB INTERNATIONAL INC",
                  "rawType": "bool",
                  "type": "boolean"
                },
                {
                  "name": "NAME_RCI INC",
                  "rawType": "bool",
                  "type": "boolean"
                },
                {
                  "name": "NAME_RECREATION CENTERS OF SUN CITY INC",
                  "rawType": "bool",
                  "type": "boolean"
                },
                {
                  "name": "NAME_REFRIGERATION SERVICE ENGINEERS SOCIETY",
                  "rawType": "bool",
                  "type": "boolean"
                },
                {
                  "name": "NAME_ROAD RUNNERS CLUB OF AMERICA",
                  "rawType": "bool",
                  "type": "boolean"
                },
                {
                  "name": "NAME_ROTARY INTERNATIONAL",
                  "rawType": "bool",
                  "type": "boolean"
                },
                {
                  "name": "NAME_RURAL COMMUNITY HOUSING DEVELOPMENT CORPORATION",
                  "rawType": "bool",
                  "type": "boolean"
                },
                {
                  "name": "NAME_RVING WOMEN",
                  "rawType": "bool",
                  "type": "boolean"
                },
                {
                  "name": "NAME_SAN RAMON VALLEY EDUCATION FOUNDATION",
                  "rawType": "bool",
                  "type": "boolean"
                },
                {
                  "name": "NAME_SEATTLE CHILDRENS HOSPITAL",
                  "rawType": "bool",
                  "type": "boolean"
                },
                {
                  "name": "NAME_SERTOMA INC",
                  "rawType": "bool",
                  "type": "boolean"
                },
                {
                  "name": "NAME_SHRINERS INTERNATIONAL",
                  "rawType": "bool",
                  "type": "boolean"
                },
                {
                  "name": "NAME_SIGMA ALPHA OMEGA CHRISTIAN SORORITY INC",
                  "rawType": "bool",
                  "type": "boolean"
                },
                {
                  "name": "NAME_SIGMA BETA DELTA INC",
                  "rawType": "bool",
                  "type": "boolean"
                },
                {
                  "name": "NAME_SIGMA PHI LAMBDA INC",
                  "rawType": "bool",
                  "type": "boolean"
                },
                {
                  "name": "NAME_SIGMA THETA TAU INTERNATIONAL INC",
                  "rawType": "bool",
                  "type": "boolean"
                },
                {
                  "name": "NAME_SLOW FOOD U S A INC",
                  "rawType": "bool",
                  "type": "boolean"
                },
                {
                  "name": "NAME_SLOW FOOD USA INC",
                  "rawType": "bool",
                  "type": "boolean"
                },
                {
                  "name": "NAME_SNOHOMISH HIGH SCHOOL PANTHER PARENTS CLUB",
                  "rawType": "bool",
                  "type": "boolean"
                },
                {
                  "name": "NAME_SOCIETY FOR CREATIVE ANACHRONISM",
                  "rawType": "bool",
                  "type": "boolean"
                },
                {
                  "name": "NAME_SOCIETY FOR CREATIVE ANACHRONISM INC",
                  "rawType": "bool",
                  "type": "boolean"
                },
                {
                  "name": "NAME_SOCIETY FOR PRESERVATION & ENCOURMT OF BARBERSHOP QUARTET SINGING AMER",
                  "rawType": "bool",
                  "type": "boolean"
                },
                {
                  "name": "NAME_SOCIETY FOR PRESERVATION & ENCRGMNT OF BARBERSHOP QUARTET SINGING AMER",
                  "rawType": "bool",
                  "type": "boolean"
                },
                {
                  "name": "NAME_SOCIETY OF SAINT VINCENT DE PAUL COUNCIL OF LOS ANGELES",
                  "rawType": "bool",
                  "type": "boolean"
                },
                {
                  "name": "NAME_SOCIETY OF WOMEN ENGINEERS",
                  "rawType": "bool",
                  "type": "boolean"
                },
                {
                  "name": "NAME_SONS OF CONFEDERATE VETERANS INC",
                  "rawType": "bool",
                  "type": "boolean"
                },
                {
                  "name": "NAME_SONS OF ITALY IN AMERICA",
                  "rawType": "bool",
                  "type": "boolean"
                },
                {
                  "name": "NAME_SOROPTIMIST INTERNATIONAL OF THE AMERICAS INC",
                  "rawType": "bool",
                  "type": "boolean"
                },
                {
                  "name": "NAME_SOUTHERN CALIFORNIA OUTRIGGER RACING ASSOCIATION",
                  "rawType": "bool",
                  "type": "boolean"
                },
                {
                  "name": "NAME_SOUTHERN OFF ROAD BICYCLE ASSOCIATION",
                  "rawType": "bool",
                  "type": "boolean"
                },
                {
                  "name": "NAME_SOUTHERN OFF-ROAD BICYCLE ASSOCIATION",
                  "rawType": "bool",
                  "type": "boolean"
                },
                {
                  "name": "NAME_SPARTAN ATHLETIC CLUB",
                  "rawType": "bool",
                  "type": "boolean"
                },
                {
                  "name": "NAME_SPIRITHORSE THERAPEUTIC RIDING CENTER",
                  "rawType": "bool",
                  "type": "boolean"
                },
                {
                  "name": "NAME_STEVES CLUB NATIONAL PROGRAM",
                  "rawType": "bool",
                  "type": "boolean"
                },
                {
                  "name": "NAME_SWEET ADELINES INTERNATIONAL",
                  "rawType": "bool",
                  "type": "boolean"
                },
                {
                  "name": "NAME_TANNER MEDICAL CENTER",
                  "rawType": "bool",
                  "type": "boolean"
                },
                {
                  "name": "NAME_TAU KAPPA EPSILON FRATERNITY INC",
                  "rawType": "bool",
                  "type": "boolean"
                },
                {
                  "name": "NAME_TENNESSEE FOSTER CARE ASSOCIATION INC",
                  "rawType": "bool",
                  "type": "boolean"
                },
                {
                  "name": "NAME_TENNESSEE ORDER OF THE EASTERN STAR",
                  "rawType": "bool",
                  "type": "boolean"
                },
                {
                  "name": "NAME_TEXAS 4-H",
                  "rawType": "bool",
                  "type": "boolean"
                },
                {
                  "name": "NAME_TEXAS FEDERATION OF WOMEN CLUBS",
                  "rawType": "bool",
                  "type": "boolean"
                },
                {
                  "name": "NAME_TEXAS GARDEN CLUBS INC",
                  "rawType": "bool",
                  "type": "boolean"
                },
                {
                  "name": "NAME_TEXAS MASTER GARDENER ASSOCIATION INC",
                  "rawType": "bool",
                  "type": "boolean"
                },
                {
                  "name": "NAME_TEXAS STATE TEACHERS ASSOCIATION",
                  "rawType": "bool",
                  "type": "boolean"
                },
                {
                  "name": "NAME_THE INTERIOR DESIGN SOCIETY INC",
                  "rawType": "bool",
                  "type": "boolean"
                },
                {
                  "name": "NAME_THE OREGON STATE FEDERATION OF GARDEN CLUBS INC",
                  "rawType": "bool",
                  "type": "boolean"
                },
                {
                  "name": "NAME_THE READING FOUNDATION",
                  "rawType": "bool",
                  "type": "boolean"
                },
                {
                  "name": "NAME_THE UNITED STATES PONY CLUB INC",
                  "rawType": "bool",
                  "type": "boolean"
                },
                {
                  "name": "NAME_THE UNITED STATES PONY CLUBS INC",
                  "rawType": "bool",
                  "type": "boolean"
                },
                {
                  "name": "NAME_THETA CHI EPSILON SORORITY OF N A",
                  "rawType": "bool",
                  "type": "boolean"
                },
                {
                  "name": "NAME_THETA NU XI MULTICULTURAL SORORITY INC",
                  "rawType": "bool",
                  "type": "boolean"
                },
                {
                  "name": "NAME_THETA TAU",
                  "rawType": "bool",
                  "type": "boolean"
                },
                {
                  "name": "NAME_THETA TAU FRATERNITY",
                  "rawType": "bool",
                  "type": "boolean"
                },
                {
                  "name": "NAME_TOASTMASTERS INTERNATIONAL",
                  "rawType": "bool",
                  "type": "boolean"
                },
                {
                  "name": "NAME_TOPS CLUB INC",
                  "rawType": "bool",
                  "type": "boolean"
                },
                {
                  "name": "NAME_TROUT UNLIMITED",
                  "rawType": "bool",
                  "type": "boolean"
                },
                {
                  "name": "NAME_TUSKEGEE AIRMEN INC",
                  "rawType": "bool",
                  "type": "boolean"
                },
                {
                  "name": "NAME_UNION OF CALIFORNIA STATE WORKERS",
                  "rawType": "bool",
                  "type": "boolean"
                },
                {
                  "name": "NAME_UNITED DAUGHTERS OF THE CONFEDERACY",
                  "rawType": "bool",
                  "type": "boolean"
                },
                {
                  "name": "NAME_UNITED FEDERATION OF DOLL CLUBS INC",
                  "rawType": "bool",
                  "type": "boolean"
                },
                {
                  "name": "NAME_UNITED MINE WORKERS OF AMERICA INTERNATIONAL",
                  "rawType": "bool",
                  "type": "boolean"
                },
                {
                  "name": "NAME_UNITED OSTOMY ASSOCIATION OF AMERICA INC",
                  "rawType": "bool",
                  "type": "boolean"
                },
                {
                  "name": "NAME_UNITED OSTOMY ASSOCIATIONS OF AMERICA INC",
                  "rawType": "bool",
                  "type": "boolean"
                },
                {
                  "name": "NAME_UNITED STATE PONY CLUBS INC",
                  "rawType": "bool",
                  "type": "boolean"
                },
                {
                  "name": "NAME_UNITED STATES BOWLING CONGRESS INC",
                  "rawType": "bool",
                  "type": "boolean"
                },
                {
                  "name": "NAME_UNITED STATES FENCING ASSOCIATION",
                  "rawType": "bool",
                  "type": "boolean"
                },
                {
                  "name": "NAME_UNITED STATES PONY CLUBS INC",
                  "rawType": "bool",
                  "type": "boolean"
                },
                {
                  "name": "NAME_UNITED STATES POWER SQUADRONS",
                  "rawType": "bool",
                  "type": "boolean"
                },
                {
                  "name": "NAME_UNITED STEELWORKERS",
                  "rawType": "bool",
                  "type": "boolean"
                },
                {
                  "name": "NAME_UNIVERSITY OF FLORIDA",
                  "rawType": "bool",
                  "type": "boolean"
                },
                {
                  "name": "NAME_UNIVERSITY OF FLORIDA ALUMNI ASSOCIATION INC",
                  "rawType": "bool",
                  "type": "boolean"
                },
                {
                  "name": "NAME_UNIVERSITY OF WYOMING",
                  "rawType": "bool",
                  "type": "boolean"
                },
                {
                  "name": "NAME_US COMMITTEE FOR UN FUND FOR WOMEN INC",
                  "rawType": "bool",
                  "type": "boolean"
                },
                {
                  "name": "NAME_US LACROSSE INC",
                  "rawType": "bool",
                  "type": "boolean"
                },
                {
                  "name": "NAME_USA SWIMMING INC",
                  "rawType": "bool",
                  "type": "boolean"
                },
                {
                  "name": "NAME_VETERANS FOR PEACE INC",
                  "rawType": "bool",
                  "type": "boolean"
                },
                {
                  "name": "NAME_VETERANS OF FOREIGN WARS DEPARTMENT OF CALIFORNIA",
                  "rawType": "bool",
                  "type": "boolean"
                },
                {
                  "name": "NAME_VETERANS OF FOREIGN WARS DEPARTMENT OF KANSAS LADIES AUXILIARY",
                  "rawType": "bool",
                  "type": "boolean"
                },
                {
                  "name": "NAME_VETERANS OF FOREIGN WARS OF THE U S AUXILIARY DEPARTMENT OF LOUISIANA",
                  "rawType": "bool",
                  "type": "boolean"
                },
                {
                  "name": "NAME_VETERANS OF FOREIGN WARS OF THE UNITED STATES AUX DEPT OF COLORADO",
                  "rawType": "bool",
                  "type": "boolean"
                },
                {
                  "name": "NAME_VETERANS OF FOREIGN WARS OF THE UNITED STATES AUXILIARY",
                  "rawType": "bool",
                  "type": "boolean"
                },
                {
                  "name": "NAME_VETERANS OF FOREIGN WARS OF THE UNITED STATES AUXILIARY DEPARTMENT",
                  "rawType": "bool",
                  "type": "boolean"
                },
                {
                  "name": "NAME_VFW AUXILIARY DEPARTMENT OF MISSISSIPPI",
                  "rawType": "bool",
                  "type": "boolean"
                },
                {
                  "name": "NAME_VFW AUXILIARY DEPARTMENT OF OKLAHOMA INC",
                  "rawType": "bool",
                  "type": "boolean"
                },
                {
                  "name": "NAME_VFW AUXILIARY DEPT OF HAWAII",
                  "rawType": "bool",
                  "type": "boolean"
                },
                {
                  "name": "NAME_VICTORY NEW TESTAMENT FELLOWSHIP INTERNATIONAL",
                  "rawType": "bool",
                  "type": "boolean"
                },
                {
                  "name": "NAME_VIETNAM VETERANS OF AMERICA INC",
                  "rawType": "bool",
                  "type": "boolean"
                },
                {
                  "name": "NAME_WASHINGTON SOCIETY OF PROFESSIONAL ENGINEERS",
                  "rawType": "bool",
                  "type": "boolean"
                },
                {
                  "name": "NAME_WASHINGTON STATE GRANGE",
                  "rawType": "bool",
                  "type": "boolean"
                },
                {
                  "name": "NAME_WASHINGTON STATE UNIVERSITY",
                  "rawType": "bool",
                  "type": "boolean"
                },
                {
                  "name": "NAME_WEST HOUSTON AQUATIC LEAGUE INC",
                  "rawType": "bool",
                  "type": "boolean"
                },
                {
                  "name": "NAME_WOMEN IN AVIATION INTERNATIONAL",
                  "rawType": "bool",
                  "type": "boolean"
                },
                {
                  "name": "NAME_WOMENS OVERSEAS SERVICE LEAGUE",
                  "rawType": "bool",
                  "type": "boolean"
                },
                {
                  "name": "NAME_WORKERS UNITED",
                  "rawType": "bool",
                  "type": "boolean"
                },
                {
                  "name": "NAME_WYOMING CONGRESS OF PARENT AND TEACHERS ASSOCIATION",
                  "rawType": "bool",
                  "type": "boolean"
                },
                {
                  "name": "NAME_YOUNG ENTREPRENEURS ORGANIZATION",
                  "rawType": "bool",
                  "type": "boolean"
                },
                {
                  "name": "NAME_YOUNG PROFESSIONALS IN TRANSPORTATION",
                  "rawType": "bool",
                  "type": "boolean"
                },
                {
                  "name": "NAME_ZETA PHI BETA SORORITY",
                  "rawType": "bool",
                  "type": "boolean"
                },
                {
                  "name": "NAME_ZETA PHI BETA SORORITY INC",
                  "rawType": "bool",
                  "type": "boolean"
                },
                {
                  "name": "NAME_ZONTA INTERNATIONAL",
                  "rawType": "bool",
                  "type": "boolean"
                },
                {
                  "name": "APPLICATION_TYPE_Other",
                  "rawType": "bool",
                  "type": "boolean"
                },
                {
                  "name": "APPLICATION_TYPE_T10",
                  "rawType": "bool",
                  "type": "boolean"
                },
                {
                  "name": "APPLICATION_TYPE_T19",
                  "rawType": "bool",
                  "type": "boolean"
                },
                {
                  "name": "APPLICATION_TYPE_T3",
                  "rawType": "bool",
                  "type": "boolean"
                },
                {
                  "name": "APPLICATION_TYPE_T4",
                  "rawType": "bool",
                  "type": "boolean"
                },
                {
                  "name": "APPLICATION_TYPE_T5",
                  "rawType": "bool",
                  "type": "boolean"
                },
                {
                  "name": "APPLICATION_TYPE_T6",
                  "rawType": "bool",
                  "type": "boolean"
                },
                {
                  "name": "APPLICATION_TYPE_T7",
                  "rawType": "bool",
                  "type": "boolean"
                },
                {
                  "name": "APPLICATION_TYPE_T8",
                  "rawType": "bool",
                  "type": "boolean"
                },
                {
                  "name": "AFFILIATION_CompanySponsored",
                  "rawType": "bool",
                  "type": "boolean"
                },
                {
                  "name": "AFFILIATION_Family/Parent",
                  "rawType": "bool",
                  "type": "boolean"
                },
                {
                  "name": "AFFILIATION_Independent",
                  "rawType": "bool",
                  "type": "boolean"
                },
                {
                  "name": "AFFILIATION_National",
                  "rawType": "bool",
                  "type": "boolean"
                },
                {
                  "name": "AFFILIATION_Other",
                  "rawType": "bool",
                  "type": "boolean"
                },
                {
                  "name": "AFFILIATION_Regional",
                  "rawType": "bool",
                  "type": "boolean"
                },
                {
                  "name": "CLASSIFICATION_C1000",
                  "rawType": "bool",
                  "type": "boolean"
                },
                {
                  "name": "CLASSIFICATION_C1200",
                  "rawType": "bool",
                  "type": "boolean"
                },
                {
                  "name": "CLASSIFICATION_C2000",
                  "rawType": "bool",
                  "type": "boolean"
                },
                {
                  "name": "CLASSIFICATION_C2100",
                  "rawType": "bool",
                  "type": "boolean"
                },
                {
                  "name": "CLASSIFICATION_C3000",
                  "rawType": "bool",
                  "type": "boolean"
                },
                {
                  "name": "CLASSIFICATION_Other",
                  "rawType": "bool",
                  "type": "boolean"
                },
                {
                  "name": "USE_CASE_CommunityServ",
                  "rawType": "bool",
                  "type": "boolean"
                },
                {
                  "name": "USE_CASE_Heathcare",
                  "rawType": "bool",
                  "type": "boolean"
                },
                {
                  "name": "USE_CASE_Other",
                  "rawType": "bool",
                  "type": "boolean"
                },
                {
                  "name": "USE_CASE_Preservation",
                  "rawType": "bool",
                  "type": "boolean"
                },
                {
                  "name": "USE_CASE_ProductDev",
                  "rawType": "bool",
                  "type": "boolean"
                },
                {
                  "name": "ORGANIZATION_Association",
                  "rawType": "bool",
                  "type": "boolean"
                },
                {
                  "name": "ORGANIZATION_Co-operative",
                  "rawType": "bool",
                  "type": "boolean"
                },
                {
                  "name": "ORGANIZATION_Corporation",
                  "rawType": "bool",
                  "type": "boolean"
                },
                {
                  "name": "ORGANIZATION_Trust",
                  "rawType": "bool",
                  "type": "boolean"
                },
                {
                  "name": "INCOME_AMT_0",
                  "rawType": "bool",
                  "type": "boolean"
                },
                {
                  "name": "INCOME_AMT_1-9999",
                  "rawType": "bool",
                  "type": "boolean"
                },
                {
                  "name": "INCOME_AMT_10000-24999",
                  "rawType": "bool",
                  "type": "boolean"
                },
                {
                  "name": "INCOME_AMT_100000-499999",
                  "rawType": "bool",
                  "type": "boolean"
                },
                {
                  "name": "INCOME_AMT_10M-50M",
                  "rawType": "bool",
                  "type": "boolean"
                },
                {
                  "name": "INCOME_AMT_1M-5M",
                  "rawType": "bool",
                  "type": "boolean"
                },
                {
                  "name": "INCOME_AMT_25000-99999",
                  "rawType": "bool",
                  "type": "boolean"
                },
                {
                  "name": "INCOME_AMT_50M+",
                  "rawType": "bool",
                  "type": "boolean"
                },
                {
                  "name": "INCOME_AMT_5M-10M",
                  "rawType": "bool",
                  "type": "boolean"
                }
              ],
              "conversionMethod": "pd.DataFrame",
              "ref": "3bd21619-4c02-4175-a08d-83c93da0be25",
              "rows": [
                [
                  "0",
                  "5000",
                  "1",
                  "False",
                  "False",
                  "False",
                  "False",
                  "False",
                  "False",
                  "False",
                  "False",
                  "False",
                  "False",
                  "False",
                  "False",
                  "False",
                  "False",
                  "False",
                  "False",
                  "False",
                  "False",
                  "False",
                  "False",
                  "False",
                  "False",
                  "False",
                  "False",
                  "False",
                  "False",
                  "False",
                  "False",
                  "False",
                  "False",
                  "False",
                  "False",
                  "False",
                  "False",
                  "False",
                  "False",
                  "False",
                  "False",
                  "False",
                  "False",
                  "False",
                  "False",
                  "False",
                  "False",
                  "False",
                  "False",
                  "False",
                  "False",
                  "False",
                  "False",
                  "False",
                  "False",
                  "False",
                  "False",
                  "False",
                  "False",
                  "False",
                  "False",
                  "False",
                  "False",
                  "True",
                  "False",
                  "False",
                  "False",
                  "False",
                  "False",
                  "False",
                  "False",
                  "False",
                  "False",
                  "False",
                  "False",
                  "False",
                  "False",
                  "False",
                  "False",
                  "False",
                  "False",
                  "False",
                  "False",
                  "False",
                  "False",
                  "False",
                  "False",
                  "False",
                  "False",
                  "False",
                  "False",
                  "False",
                  "False",
                  "False",
                  "False",
                  "False",
                  "False",
                  "False",
                  "False",
                  "False",
                  "False",
                  "False",
                  "False",
                  "False",
                  "False",
                  "False",
                  "False",
                  "False",
                  "False",
                  "False",
                  "False",
                  "False",
                  "False",
                  "False",
                  "False",
                  "False",
                  "False",
                  "False",
                  "False",
                  "False",
                  "False",
                  "False",
                  "False",
                  "False",
                  "False",
                  "False",
                  "False",
                  "False",
                  "False",
                  "False",
                  "False",
                  "False",
                  "False",
                  "False",
                  "False",
                  "False",
                  "False",
                  "False",
                  "False",
                  "False",
                  "False",
                  "False",
                  "False",
                  "False",
                  "False",
                  "False",
                  "False",
                  "False",
                  "False",
                  "False",
                  "False",
                  "False",
                  "False",
                  "False",
                  "False",
                  "False",
                  "False",
                  "False",
                  "False",
                  "False",
                  "False",
                  "False",
                  "False",
                  "False",
                  "False",
                  "False",
                  "False",
                  "False",
                  "False",
                  "False",
                  "False",
                  "False",
                  "False",
                  "False",
                  "False",
                  "False",
                  "False",
                  "False",
                  "False",
                  "False",
                  "False",
                  "False",
                  "False",
                  "False",
                  "False",
                  "False",
                  "False",
                  "False",
                  "False",
                  "False",
                  "False",
                  "False",
                  "False",
                  "False",
                  "False",
                  "False",
                  "False",
                  "False",
                  "False",
                  "False",
                  "False",
                  "False",
                  "False",
                  "False",
                  "False",
                  "False",
                  "False",
                  "False",
                  "False",
                  "False",
                  "False",
                  "False",
                  "False",
                  "False",
                  "False",
                  "False",
                  "False",
                  "False",
                  "False",
                  "False",
                  "False",
                  "False",
                  "False",
                  "False",
                  "False",
                  "False",
                  "False",
                  "False",
                  "False",
                  "False",
                  "False",
                  "False",
                  "False",
                  "False",
                  "False",
                  "False",
                  "False",
                  "False",
                  "False",
                  "False",
                  "False",
                  "False",
                  "False",
                  "False",
                  "False",
                  "False",
                  "False",
                  "False",
                  "False",
                  "False",
                  "False",
                  "False",
                  "False",
                  "False",
                  "False",
                  "False",
                  "False",
                  "False",
                  "False",
                  "False",
                  "False",
                  "False",
                  "False",
                  "False",
                  "False",
                  "False",
                  "False",
                  "False",
                  "False",
                  "False",
                  "False",
                  "False",
                  "False",
                  "False",
                  "False",
                  "False",
                  "False",
                  "False",
                  "False",
                  "False",
                  "False",
                  "False",
                  "False",
                  "False",
                  "False",
                  "False",
                  "False",
                  "False",
                  "False",
                  "False",
                  "False",
                  "False",
                  "False",
                  "False",
                  "False",
                  "False",
                  "False",
                  "False",
                  "False",
                  "False",
                  "False",
                  "False",
                  "False",
                  "False",
                  "False",
                  "False",
                  "False",
                  "False",
                  "False",
                  "False",
                  "False",
                  "False",
                  "False",
                  "False",
                  "False",
                  "False",
                  "False",
                  "False",
                  "False",
                  "False",
                  "False",
                  "False",
                  "False",
                  "False",
                  "False",
                  "False",
                  "False",
                  "False",
                  "False",
                  "False",
                  "False",
                  "False",
                  "False",
                  "False",
                  "False",
                  "False",
                  "False",
                  "False",
                  "False",
                  "False",
                  "False",
                  "False",
                  "False",
                  "False",
                  "False",
                  "False",
                  "False",
                  "False",
                  "False",
                  "False",
                  "False",
                  "False",
                  "False",
                  "False",
                  "False",
                  "False",
                  "False",
                  "False",
                  "False",
                  "True",
                  "False",
                  "False",
                  "False",
                  "False",
                  "False",
                  "False",
                  "False",
                  "False",
                  "False",
                  "True",
                  "False",
                  "False",
                  "False",
                  "True",
                  "False",
                  "False",
                  "False",
                  "False",
                  "False",
                  "False",
                  "False",
                  "False",
                  "False",
                  "True",
                  "True",
                  "False",
                  "False",
                  "False",
                  "True",
                  "False",
                  "False",
                  "False",
                  "False",
                  "False",
                  "False",
                  "False",
                  "False"
                ],
                [
                  "1",
                  "108590",
                  "1",
                  "False",
                  "False",
                  "False",
                  "False",
                  "False",
                  "False",
                  "False",
                  "False",
                  "False",
                  "False",
                  "False",
                  "False",
                  "False",
                  "False",
                  "False",
                  "False",
                  "False",
                  "False",
                  "False",
                  "False",
                  "False",
                  "False",
                  "False",
                  "False",
                  "False",
                  "False",
                  "False",
                  "False",
                  "False",
                  "False",
                  "False",
                  "False",
                  "False",
                  "False",
                  "False",
                  "False",
                  "False",
                  "False",
                  "False",
                  "False",
                  "False",
                  "False",
                  "False",
                  "False",
                  "False",
                  "False",
                  "False",
                  "False",
                  "False",
                  "False",
                  "False",
                  "False",
                  "False",
                  "False",
                  "False",
                  "False",
                  "False",
                  "False",
                  "False",
                  "False",
                  "False",
                  "False",
                  "False",
                  "False",
                  "False",
                  "False",
                  "False",
                  "False",
                  "False",
                  "False",
                  "False",
                  "False",
                  "False",
                  "False",
                  "False",
                  "False",
                  "False",
                  "False",
                  "False",
                  "False",
                  "False",
                  "False",
                  "False",
                  "False",
                  "False",
                  "False",
                  "False",
                  "False",
                  "False",
                  "False",
                  "False",
                  "False",
                  "False",
                  "False",
                  "False",
                  "False",
                  "False",
                  "False",
                  "False",
                  "False",
                  "False",
                  "False",
                  "False",
                  "False",
                  "False",
                  "False",
                  "False",
                  "False",
                  "False",
                  "False",
                  "False",
                  "False",
                  "False",
                  "False",
                  "False",
                  "False",
                  "False",
                  "False",
                  "False",
                  "False",
                  "False",
                  "False",
                  "False",
                  "False",
                  "False",
                  "False",
                  "False",
                  "False",
                  "False",
                  "False",
                  "False",
                  "False",
                  "False",
                  "False",
                  "False",
                  "False",
                  "False",
                  "False",
                  "False",
                  "False",
                  "False",
                  "False",
                  "False",
                  "False",
                  "False",
                  "False",
                  "False",
                  "False",
                  "False",
                  "False",
                  "False",
                  "False",
                  "False",
                  "False",
                  "False",
                  "False",
                  "False",
                  "False",
                  "False",
                  "False",
                  "False",
                  "False",
                  "False",
                  "False",
                  "False",
                  "False",
                  "False",
                  "False",
                  "False",
                  "False",
                  "False",
                  "False",
                  "False",
                  "False",
                  "False",
                  "False",
                  "False",
                  "False",
                  "False",
                  "False",
                  "False",
                  "False",
                  "False",
                  "False",
                  "False",
                  "False",
                  "False",
                  "False",
                  "False",
                  "False",
                  "False",
                  "False",
                  "False",
                  "False",
                  "False",
                  "False",
                  "False",
                  "False",
                  "False",
                  "False",
                  "False",
                  "False",
                  "False",
                  "False",
                  "False",
                  "False",
                  "False",
                  "False",
                  "False",
                  "False",
                  "False",
                  "False",
                  "False",
                  "False",
                  "False",
                  "False",
                  "False",
                  "False",
                  "False",
                  "False",
                  "False",
                  "False",
                  "False",
                  "False",
                  "False",
                  "False",
                  "False",
                  "False",
                  "False",
                  "False",
                  "False",
                  "False",
                  "False",
                  "False",
                  "False",
                  "False",
                  "False",
                  "True",
                  "False",
                  "False",
                  "False",
                  "False",
                  "False",
                  "False",
                  "False",
                  "False",
                  "False",
                  "False",
                  "False",
                  "False",
                  "False",
                  "False",
                  "False",
                  "False",
                  "False",
                  "False",
                  "False",
                  "False",
                  "False",
                  "False",
                  "False",
                  "False",
                  "False",
                  "False",
                  "False",
                  "False",
                  "False",
                  "False",
                  "False",
                  "False",
                  "False",
                  "False",
                  "False",
                  "False",
                  "False",
                  "False",
                  "False",
                  "False",
                  "False",
                  "False",
                  "False",
                  "False",
                  "False",
                  "False",
                  "False",
                  "False",
                  "False",
                  "False",
                  "False",
                  "False",
                  "False",
                  "False",
                  "False",
                  "False",
                  "False",
                  "False",
                  "False",
                  "False",
                  "False",
                  "False",
                  "False",
                  "False",
                  "False",
                  "False",
                  "False",
                  "False",
                  "False",
                  "False",
                  "False",
                  "False",
                  "False",
                  "False",
                  "False",
                  "False",
                  "False",
                  "False",
                  "False",
                  "False",
                  "False",
                  "False",
                  "False",
                  "False",
                  "False",
                  "False",
                  "False",
                  "False",
                  "False",
                  "False",
                  "False",
                  "False",
                  "False",
                  "False",
                  "False",
                  "False",
                  "False",
                  "False",
                  "False",
                  "False",
                  "False",
                  "False",
                  "False",
                  "False",
                  "False",
                  "False",
                  "False",
                  "False",
                  "False",
                  "False",
                  "False",
                  "False",
                  "False",
                  "False",
                  "False",
                  "False",
                  "False",
                  "False",
                  "False",
                  "False",
                  "True",
                  "False",
                  "False",
                  "False",
                  "False",
                  "False",
                  "False",
                  "False",
                  "True",
                  "False",
                  "False",
                  "False",
                  "False",
                  "False",
                  "True",
                  "False",
                  "False",
                  "False",
                  "False",
                  "False",
                  "False",
                  "True",
                  "False",
                  "False",
                  "True",
                  "False",
                  "False",
                  "False",
                  "True",
                  "False",
                  "False",
                  "False",
                  "False",
                  "False",
                  "False",
                  "False"
                ],
                [
                  "2",
                  "5000",
                  "0",
                  "False",
                  "False",
                  "False",
                  "False",
                  "False",
                  "False",
                  "False",
                  "False",
                  "False",
                  "False",
                  "False",
                  "False",
                  "False",
                  "False",
                  "False",
                  "False",
                  "False",
                  "False",
                  "False",
                  "False",
                  "False",
                  "False",
                  "False",
                  "False",
                  "False",
                  "False",
                  "False",
                  "False",
                  "False",
                  "False",
                  "False",
                  "False",
                  "False",
                  "False",
                  "False",
                  "False",
                  "False",
                  "False",
                  "False",
                  "False",
                  "False",
                  "False",
                  "False",
                  "False",
                  "False",
                  "False",
                  "False",
                  "False",
                  "False",
                  "False",
                  "False",
                  "False",
                  "False",
                  "False",
                  "False",
                  "False",
                  "False",
                  "False",
                  "False",
                  "False",
                  "False",
                  "False",
                  "False",
                  "False",
                  "False",
                  "False",
                  "False",
                  "False",
                  "False",
                  "False",
                  "False",
                  "False",
                  "False",
                  "False",
                  "False",
                  "False",
                  "False",
                  "False",
                  "False",
                  "False",
                  "False",
                  "False",
                  "False",
                  "False",
                  "False",
                  "False",
                  "False",
                  "False",
                  "False",
                  "False",
                  "False",
                  "False",
                  "False",
                  "False",
                  "False",
                  "False",
                  "False",
                  "False",
                  "False",
                  "False",
                  "False",
                  "False",
                  "False",
                  "False",
                  "False",
                  "False",
                  "False",
                  "False",
                  "False",
                  "False",
                  "False",
                  "False",
                  "False",
                  "False",
                  "False",
                  "False",
                  "False",
                  "False",
                  "False",
                  "False",
                  "False",
                  "False",
                  "False",
                  "False",
                  "False",
                  "False",
                  "False",
                  "False",
                  "False",
                  "False",
                  "False",
                  "False",
                  "False",
                  "False",
                  "False",
                  "False",
                  "False",
                  "False",
                  "False",
                  "False",
                  "False",
                  "False",
                  "False",
                  "False",
                  "False",
                  "False",
                  "False",
                  "False",
                  "False",
                  "False",
                  "False",
                  "False",
                  "False",
                  "False",
                  "False",
                  "False",
                  "False",
                  "False",
                  "False",
                  "False",
                  "False",
                  "False",
                  "False",
                  "False",
                  "False",
                  "False",
                  "False",
                  "False",
                  "False",
                  "False",
                  "False",
                  "False",
                  "False",
                  "False",
                  "False",
                  "False",
                  "False",
                  "False",
                  "False",
                  "False",
                  "False",
                  "False",
                  "False",
                  "False",
                  "False",
                  "False",
                  "False",
                  "False",
                  "False",
                  "False",
                  "False",
                  "False",
                  "False",
                  "False",
                  "False",
                  "False",
                  "False",
                  "False",
                  "False",
                  "False",
                  "False",
                  "False",
                  "False",
                  "False",
                  "False",
                  "False",
                  "False",
                  "False",
                  "False",
                  "False",
                  "False",
                  "False",
                  "False",
                  "False",
                  "False",
                  "False",
                  "False",
                  "False",
                  "False",
                  "False",
                  "False",
                  "False",
                  "False",
                  "False",
                  "False",
                  "False",
                  "False",
                  "False",
                  "False",
                  "False",
                  "False",
                  "False",
                  "False",
                  "False",
                  "False",
                  "False",
                  "False",
                  "True",
                  "False",
                  "False",
                  "False",
                  "False",
                  "False",
                  "False",
                  "False",
                  "False",
                  "False",
                  "False",
                  "False",
                  "False",
                  "False",
                  "False",
                  "False",
                  "False",
                  "False",
                  "False",
                  "False",
                  "False",
                  "False",
                  "False",
                  "False",
                  "False",
                  "False",
                  "False",
                  "False",
                  "False",
                  "False",
                  "False",
                  "False",
                  "False",
                  "False",
                  "False",
                  "False",
                  "False",
                  "False",
                  "False",
                  "False",
                  "False",
                  "False",
                  "False",
                  "False",
                  "False",
                  "False",
                  "False",
                  "False",
                  "False",
                  "False",
                  "False",
                  "False",
                  "False",
                  "False",
                  "False",
                  "False",
                  "False",
                  "False",
                  "False",
                  "False",
                  "False",
                  "False",
                  "False",
                  "False",
                  "False",
                  "False",
                  "False",
                  "False",
                  "False",
                  "False",
                  "False",
                  "False",
                  "False",
                  "False",
                  "False",
                  "False",
                  "False",
                  "False",
                  "False",
                  "False",
                  "False",
                  "False",
                  "False",
                  "False",
                  "False",
                  "False",
                  "False",
                  "False",
                  "False",
                  "False",
                  "False",
                  "False",
                  "False",
                  "False",
                  "False",
                  "False",
                  "False",
                  "False",
                  "False",
                  "False",
                  "False",
                  "False",
                  "False",
                  "False",
                  "False",
                  "False",
                  "False",
                  "False",
                  "False",
                  "False",
                  "False",
                  "False",
                  "False",
                  "False",
                  "False",
                  "False",
                  "False",
                  "False",
                  "False",
                  "False",
                  "False",
                  "False",
                  "False",
                  "True",
                  "False",
                  "False",
                  "False",
                  "True",
                  "False",
                  "False",
                  "False",
                  "False",
                  "False",
                  "False",
                  "False",
                  "False",
                  "False",
                  "True",
                  "False",
                  "False",
                  "False",
                  "False",
                  "False",
                  "True",
                  "True",
                  "False",
                  "False",
                  "False",
                  "True",
                  "False",
                  "False",
                  "False",
                  "False",
                  "False",
                  "False",
                  "False",
                  "False"
                ]
              ],
              "shape": {
                "columns": 396,
                "rows": 3
              }
            },
            "text/html": [
              "<div>\n",
              "<style scoped>\n",
              "    .dataframe tbody tr th:only-of-type {\n",
              "        vertical-align: middle;\n",
              "    }\n",
              "\n",
              "    .dataframe tbody tr th {\n",
              "        vertical-align: top;\n",
              "    }\n",
              "\n",
              "    .dataframe thead th {\n",
              "        text-align: right;\n",
              "    }\n",
              "</style>\n",
              "<table border=\"1\" class=\"dataframe\">\n",
              "  <thead>\n",
              "    <tr style=\"text-align: right;\">\n",
              "      <th></th>\n",
              "      <th>ASK_AMT</th>\n",
              "      <th>IS_SUCCESSFUL</th>\n",
              "      <th>NAME_AACE INTERNATIONAL</th>\n",
              "      <th>NAME_ACE MENTOR PROGRAM OF AMERICA INC</th>\n",
              "      <th>NAME_AFRICAN-AMERICAN POSTAL LEAGUE UNITED FOR SUCCESS A-PLUS</th>\n",
              "      <th>NAME_AIR FORCE ASSOCIATION</th>\n",
              "      <th>NAME_ALABAMA FEDERATION OF WOMENS CLUBS</th>\n",
              "      <th>NAME_ALABAMA TREASURE FOREST ASSOCIATION</th>\n",
              "      <th>NAME_ALBANY STATE UNIVERSITY NATIONAL ALUMNI ASSOCIATION</th>\n",
              "      <th>NAME_ALPHA PHI OMEGA</th>\n",
              "      <th>...</th>\n",
              "      <th>ORGANIZATION_Trust</th>\n",
              "      <th>INCOME_AMT_0</th>\n",
              "      <th>INCOME_AMT_1-9999</th>\n",
              "      <th>INCOME_AMT_10000-24999</th>\n",
              "      <th>INCOME_AMT_100000-499999</th>\n",
              "      <th>INCOME_AMT_10M-50M</th>\n",
              "      <th>INCOME_AMT_1M-5M</th>\n",
              "      <th>INCOME_AMT_25000-99999</th>\n",
              "      <th>INCOME_AMT_50M+</th>\n",
              "      <th>INCOME_AMT_5M-10M</th>\n",
              "    </tr>\n",
              "  </thead>\n",
              "  <tbody>\n",
              "    <tr>\n",
              "      <th>0</th>\n",
              "      <td>5000</td>\n",
              "      <td>1</td>\n",
              "      <td>False</td>\n",
              "      <td>False</td>\n",
              "      <td>False</td>\n",
              "      <td>False</td>\n",
              "      <td>False</td>\n",
              "      <td>False</td>\n",
              "      <td>False</td>\n",
              "      <td>False</td>\n",
              "      <td>...</td>\n",
              "      <td>False</td>\n",
              "      <td>True</td>\n",
              "      <td>False</td>\n",
              "      <td>False</td>\n",
              "      <td>False</td>\n",
              "      <td>False</td>\n",
              "      <td>False</td>\n",
              "      <td>False</td>\n",
              "      <td>False</td>\n",
              "      <td>False</td>\n",
              "    </tr>\n",
              "    <tr>\n",
              "      <th>1</th>\n",
              "      <td>108590</td>\n",
              "      <td>1</td>\n",
              "      <td>False</td>\n",
              "      <td>False</td>\n",
              "      <td>False</td>\n",
              "      <td>False</td>\n",
              "      <td>False</td>\n",
              "      <td>False</td>\n",
              "      <td>False</td>\n",
              "      <td>False</td>\n",
              "      <td>...</td>\n",
              "      <td>False</td>\n",
              "      <td>False</td>\n",
              "      <td>True</td>\n",
              "      <td>False</td>\n",
              "      <td>False</td>\n",
              "      <td>False</td>\n",
              "      <td>False</td>\n",
              "      <td>False</td>\n",
              "      <td>False</td>\n",
              "      <td>False</td>\n",
              "    </tr>\n",
              "    <tr>\n",
              "      <th>2</th>\n",
              "      <td>5000</td>\n",
              "      <td>0</td>\n",
              "      <td>False</td>\n",
              "      <td>False</td>\n",
              "      <td>False</td>\n",
              "      <td>False</td>\n",
              "      <td>False</td>\n",
              "      <td>False</td>\n",
              "      <td>False</td>\n",
              "      <td>False</td>\n",
              "      <td>...</td>\n",
              "      <td>False</td>\n",
              "      <td>True</td>\n",
              "      <td>False</td>\n",
              "      <td>False</td>\n",
              "      <td>False</td>\n",
              "      <td>False</td>\n",
              "      <td>False</td>\n",
              "      <td>False</td>\n",
              "      <td>False</td>\n",
              "      <td>False</td>\n",
              "    </tr>\n",
              "  </tbody>\n",
              "</table>\n",
              "<p>3 rows × 396 columns</p>\n",
              "</div>"
            ],
            "text/plain": [
              "   ASK_AMT  IS_SUCCESSFUL  NAME_AACE INTERNATIONAL  \\\n",
              "0     5000              1                    False   \n",
              "1   108590              1                    False   \n",
              "2     5000              0                    False   \n",
              "\n",
              "   NAME_ACE MENTOR PROGRAM OF AMERICA INC  \\\n",
              "0                                   False   \n",
              "1                                   False   \n",
              "2                                   False   \n",
              "\n",
              "   NAME_AFRICAN-AMERICAN POSTAL LEAGUE UNITED FOR SUCCESS A-PLUS  \\\n",
              "0                                              False               \n",
              "1                                              False               \n",
              "2                                              False               \n",
              "\n",
              "   NAME_AIR FORCE ASSOCIATION  NAME_ALABAMA FEDERATION OF WOMENS CLUBS  \\\n",
              "0                       False                                    False   \n",
              "1                       False                                    False   \n",
              "2                       False                                    False   \n",
              "\n",
              "   NAME_ALABAMA TREASURE FOREST ASSOCIATION  \\\n",
              "0                                     False   \n",
              "1                                     False   \n",
              "2                                     False   \n",
              "\n",
              "   NAME_ALBANY STATE UNIVERSITY NATIONAL ALUMNI ASSOCIATION  \\\n",
              "0                                              False          \n",
              "1                                              False          \n",
              "2                                              False          \n",
              "\n",
              "   NAME_ALPHA PHI OMEGA  ...  ORGANIZATION_Trust  INCOME_AMT_0  \\\n",
              "0                 False  ...               False          True   \n",
              "1                 False  ...               False         False   \n",
              "2                 False  ...               False          True   \n",
              "\n",
              "   INCOME_AMT_1-9999  INCOME_AMT_10000-24999  INCOME_AMT_100000-499999  \\\n",
              "0              False                   False                     False   \n",
              "1               True                   False                     False   \n",
              "2              False                   False                     False   \n",
              "\n",
              "   INCOME_AMT_10M-50M  INCOME_AMT_1M-5M  INCOME_AMT_25000-99999  \\\n",
              "0               False             False                   False   \n",
              "1               False             False                   False   \n",
              "2               False             False                   False   \n",
              "\n",
              "   INCOME_AMT_50M+  INCOME_AMT_5M-10M  \n",
              "0            False              False  \n",
              "1            False              False  \n",
              "2            False              False  \n",
              "\n",
              "[3 rows x 396 columns]"
            ]
          },
          "execution_count": 13,
          "metadata": {},
          "output_type": "execute_result"
        }
      ],
      "source": [
        "# Perform one-hot encoding on the data\n",
        "application_with_dummies_df = pd.get_dummies(application_df)\n",
        "application_with_dummies_df.head(3)"
      ]
    },
    {
      "cell_type": "code",
      "execution_count": 14,
      "metadata": {
        "id": "HpVBCPDlIoaQ"
      },
      "outputs": [],
      "source": [
        "# Split our preprocessed data into our features and target arrays\n",
        "X = application_with_dummies_df.drop([\"IS_SUCCESSFUL\"], axis='columns').values\n",
        "y = application_with_dummies_df[\"IS_SUCCESSFUL\"].values\n",
        "\n",
        "# Split the preprocessed data into a training and testing dataset\n",
        "X_train, X_test, y_train, y_test = train_test_split(X,y)"
      ]
    },
    {
      "cell_type": "code",
      "execution_count": 15,
      "metadata": {
        "id": "m0lFilhKIu2B"
      },
      "outputs": [],
      "source": [
        "# Create a StandardScaler instances\n",
        "scaler = StandardScaler()\n",
        "\n",
        "# Fit the StandardScaler\n",
        "X_scaler = scaler.fit(X_train)\n",
        "\n",
        "# Scale the data\n",
        "X_train_scaled = X_scaler.transform(X_train)\n",
        "X_test_scaled = X_scaler.transform(X_test)"
      ]
    },
    {
      "cell_type": "code",
      "execution_count": 16,
      "metadata": {
        "colab": {
          "base_uri": "https://localhost:8080/",
          "height": 311
        },
        "id": "etUx_7kIJbP2",
        "outputId": "1a5ca379-adf3-4ac3-cb70-44f7eaa3f09a"
      },
      "outputs": [
        {
          "name": "stdout",
          "output_type": "stream",
          "text": [
            "Model: \"sequential\"\n",
            "_________________________________________________________________\n",
            " Layer (type)                Output Shape              Param #   \n",
            "=================================================================\n",
            " dense (Dense)               (None, 100)               39600     \n",
            "                                                                 \n",
            " dense_1 (Dense)             (None, 30)                3030      \n",
            "                                                                 \n",
            " dense_2 (Dense)             (None, 10)                310       \n",
            "                                                                 \n",
            " dense_3 (Dense)             (None, 1)                 11        \n",
            "                                                                 \n",
            "=================================================================\n",
            "Total params: 42,951\n",
            "Trainable params: 42,951\n",
            "Non-trainable params: 0\n",
            "_________________________________________________________________\n"
          ]
        }
      ],
      "source": [
        "# Define the model - deep neural net, i.e., the number of input features and hidden nodes for each layer.\n",
        "number_input_features = len(X_train[0])\n",
        "hidden_nodes_layer1 = 100\n",
        "hidden_nodes_layer2 = 30\n",
        "hidden_nodes_layer3 = 10\n",
        "\n",
        "nn = tf.keras.models.Sequential()\n",
        "\n",
        "# First hidden layer\n",
        "nn.add(\n",
        "    tf.keras.layers.Dense(units=hidden_nodes_layer1, input_dim=number_input_features, activation='relu')\n",
        ")\n",
        "\n",
        "# Second hidden layer\n",
        "nn.add(\n",
        "    tf.keras.layers.Dense(units=hidden_nodes_layer2, input_dim=number_input_features, activation='sigmoid')\n",
        ")\n",
        "\n",
        "# Third hidden layer\n",
        "nn.add(\n",
        "    tf.keras.layers.Dense(units=hidden_nodes_layer3, input_dim=number_input_features, activation='sigmoid')\n",
        ")\n",
        "\n",
        "# Output layer\n",
        "nn.add(\n",
        "    tf.keras.layers.Dense(units=1, activation='sigmoid')\n",
        ")\n",
        "\n",
        "# Check the structure of the model\n",
        "nn.summary()"
      ]
    },
    {
      "cell_type": "code",
      "execution_count": 17,
      "metadata": {
        "id": "mzxBQWI4KLji"
      },
      "outputs": [],
      "source": [
        "# Compile the model\n",
        "nn.compile(loss=\"binary_crossentropy\", optimizer=\"adam\", metrics=[\"accuracy\"])"
      ]
    },
    {
      "cell_type": "code",
      "execution_count": 18,
      "metadata": {
        "colab": {
          "base_uri": "https://localhost:8080/"
        },
        "id": "K94RM4iLKMxG",
        "outputId": "14ec01d1-1e34-488a-9a86-f6940a501c13"
      },
      "outputs": [
        {
          "name": "stdout",
          "output_type": "stream",
          "text": [
            "Epoch 1/100\n",
            "804/804 [==============================] - 2s 2ms/step - loss: 0.4849 - accuracy: 0.7759\n",
            "Epoch 2/100\n",
            "804/804 [==============================] - 1s 2ms/step - loss: 0.4396 - accuracy: 0.7937\n",
            "Epoch 3/100\n",
            "804/804 [==============================] - 1s 1ms/step - loss: 0.4335 - accuracy: 0.7963\n",
            "Epoch 4/100\n",
            "804/804 [==============================] - 1s 2ms/step - loss: 0.4295 - accuracy: 0.7982\n",
            "Epoch 5/100\n",
            "804/804 [==============================] - 1s 2ms/step - loss: 0.4267 - accuracy: 0.7980\n",
            "Epoch 6/100\n",
            "804/804 [==============================] - 1s 1ms/step - loss: 0.4248 - accuracy: 0.7991\n",
            "Epoch 7/100\n",
            "804/804 [==============================] - 1s 1ms/step - loss: 0.4234 - accuracy: 0.7992\n",
            "Epoch 8/100\n",
            "804/804 [==============================] - 1s 1ms/step - loss: 0.4220 - accuracy: 0.8001\n",
            "Epoch 9/100\n",
            "804/804 [==============================] - 1s 1ms/step - loss: 0.4215 - accuracy: 0.8000\n",
            "Epoch 10/100\n",
            "804/804 [==============================] - 1s 1ms/step - loss: 0.4207 - accuracy: 0.7997\n",
            "Epoch 11/100\n",
            "804/804 [==============================] - 1s 2ms/step - loss: 0.4192 - accuracy: 0.8014\n",
            "Epoch 12/100\n",
            "804/804 [==============================] - 1s 1ms/step - loss: 0.4186 - accuracy: 0.7995\n",
            "Epoch 13/100\n",
            "804/804 [==============================] - 1s 1ms/step - loss: 0.4179 - accuracy: 0.8015\n",
            "Epoch 14/100\n",
            "804/804 [==============================] - 1s 1ms/step - loss: 0.4171 - accuracy: 0.8013\n",
            "Epoch 15/100\n",
            "804/804 [==============================] - 1s 1ms/step - loss: 0.4167 - accuracy: 0.8023\n",
            "Epoch 16/100\n",
            "804/804 [==============================] - 1s 2ms/step - loss: 0.4163 - accuracy: 0.8016\n",
            "Epoch 17/100\n",
            "804/804 [==============================] - 1s 2ms/step - loss: 0.4154 - accuracy: 0.8022\n",
            "Epoch 18/100\n",
            "804/804 [==============================] - 1s 2ms/step - loss: 0.4144 - accuracy: 0.8029\n",
            "Epoch 19/100\n",
            "804/804 [==============================] - 1s 2ms/step - loss: 0.4144 - accuracy: 0.8031\n",
            "Epoch 20/100\n",
            "804/804 [==============================] - 1s 2ms/step - loss: 0.4141 - accuracy: 0.8033\n",
            "Epoch 21/100\n",
            "804/804 [==============================] - 1s 2ms/step - loss: 0.4131 - accuracy: 0.8026\n",
            "Epoch 22/100\n",
            "804/804 [==============================] - 1s 1ms/step - loss: 0.4127 - accuracy: 0.8017\n",
            "Epoch 23/100\n",
            "804/804 [==============================] - 1s 1ms/step - loss: 0.4125 - accuracy: 0.8029\n",
            "Epoch 24/100\n",
            "804/804 [==============================] - 1s 1ms/step - loss: 0.4117 - accuracy: 0.8031\n",
            "Epoch 25/100\n",
            "804/804 [==============================] - 1s 1ms/step - loss: 0.4117 - accuracy: 0.8041\n",
            "Epoch 26/100\n",
            "804/804 [==============================] - 1s 1ms/step - loss: 0.4111 - accuracy: 0.8040\n",
            "Epoch 27/100\n",
            "804/804 [==============================] - 1s 1ms/step - loss: 0.4104 - accuracy: 0.8037\n",
            "Epoch 28/100\n",
            "804/804 [==============================] - 1s 1ms/step - loss: 0.4105 - accuracy: 0.8042\n",
            "Epoch 29/100\n",
            "804/804 [==============================] - 1s 1ms/step - loss: 0.4100 - accuracy: 0.8047\n",
            "Epoch 30/100\n",
            "804/804 [==============================] - 1s 1ms/step - loss: 0.4098 - accuracy: 0.8040\n",
            "Epoch 31/100\n",
            "804/804 [==============================] - 1s 1ms/step - loss: 0.4093 - accuracy: 0.8054\n",
            "Epoch 32/100\n",
            "804/804 [==============================] - 1s 1ms/step - loss: 0.4087 - accuracy: 0.8056\n",
            "Epoch 33/100\n",
            "804/804 [==============================] - 1s 2ms/step - loss: 0.4086 - accuracy: 0.8049\n",
            "Epoch 34/100\n",
            "804/804 [==============================] - 1s 1ms/step - loss: 0.4081 - accuracy: 0.8052\n",
            "Epoch 35/100\n",
            "804/804 [==============================] - 1s 1ms/step - loss: 0.4081 - accuracy: 0.8048\n",
            "Epoch 36/100\n",
            "804/804 [==============================] - 1s 1ms/step - loss: 0.4079 - accuracy: 0.8050\n",
            "Epoch 37/100\n",
            "804/804 [==============================] - 1s 1ms/step - loss: 0.4074 - accuracy: 0.8050\n",
            "Epoch 38/100\n",
            "804/804 [==============================] - 1s 2ms/step - loss: 0.4072 - accuracy: 0.8061\n",
            "Epoch 39/100\n",
            "804/804 [==============================] - 1s 1ms/step - loss: 0.4069 - accuracy: 0.8058\n",
            "Epoch 40/100\n",
            "804/804 [==============================] - 1s 2ms/step - loss: 0.4065 - accuracy: 0.8064\n",
            "Epoch 41/100\n",
            "804/804 [==============================] - 1s 2ms/step - loss: 0.4069 - accuracy: 0.8045\n",
            "Epoch 42/100\n",
            "804/804 [==============================] - 1s 2ms/step - loss: 0.4061 - accuracy: 0.8052\n",
            "Epoch 43/100\n",
            "804/804 [==============================] - 1s 2ms/step - loss: 0.4062 - accuracy: 0.8058\n",
            "Epoch 44/100\n",
            "804/804 [==============================] - 1s 1ms/step - loss: 0.4060 - accuracy: 0.8065\n",
            "Epoch 45/100\n",
            "804/804 [==============================] - 1s 2ms/step - loss: 0.4057 - accuracy: 0.8055\n",
            "Epoch 46/100\n",
            "804/804 [==============================] - 1s 1ms/step - loss: 0.4058 - accuracy: 0.8056\n",
            "Epoch 47/100\n",
            "804/804 [==============================] - 1s 2ms/step - loss: 0.4051 - accuracy: 0.8071\n",
            "Epoch 48/100\n",
            "804/804 [==============================] - 1s 2ms/step - loss: 0.4051 - accuracy: 0.8059\n",
            "Epoch 49/100\n",
            "804/804 [==============================] - 1s 2ms/step - loss: 0.4050 - accuracy: 0.8062\n",
            "Epoch 50/100\n",
            "804/804 [==============================] - 1s 2ms/step - loss: 0.4049 - accuracy: 0.8052\n",
            "Epoch 51/100\n",
            "804/804 [==============================] - 1s 2ms/step - loss: 0.4043 - accuracy: 0.8068\n",
            "Epoch 52/100\n",
            "804/804 [==============================] - 1s 1ms/step - loss: 0.4044 - accuracy: 0.8064\n",
            "Epoch 53/100\n",
            "804/804 [==============================] - 1s 1ms/step - loss: 0.4044 - accuracy: 0.8064\n",
            "Epoch 54/100\n",
            "804/804 [==============================] - 1s 1ms/step - loss: 0.4039 - accuracy: 0.8070\n",
            "Epoch 55/100\n",
            "804/804 [==============================] - 1s 1ms/step - loss: 0.4041 - accuracy: 0.8082\n",
            "Epoch 56/100\n",
            "804/804 [==============================] - 1s 1ms/step - loss: 0.4040 - accuracy: 0.8063\n",
            "Epoch 57/100\n",
            "804/804 [==============================] - 1s 1ms/step - loss: 0.4036 - accuracy: 0.8078\n",
            "Epoch 58/100\n",
            "804/804 [==============================] - 1s 2ms/step - loss: 0.4035 - accuracy: 0.8064\n",
            "Epoch 59/100\n",
            "804/804 [==============================] - 1s 2ms/step - loss: 0.4031 - accuracy: 0.8068\n",
            "Epoch 60/100\n",
            "804/804 [==============================] - 1s 1ms/step - loss: 0.4033 - accuracy: 0.8067\n",
            "Epoch 61/100\n",
            "804/804 [==============================] - 1s 1ms/step - loss: 0.4032 - accuracy: 0.8078\n",
            "Epoch 62/100\n",
            "804/804 [==============================] - 1s 1ms/step - loss: 0.4029 - accuracy: 0.8067\n",
            "Epoch 63/100\n",
            "804/804 [==============================] - 1s 1ms/step - loss: 0.4030 - accuracy: 0.8073\n",
            "Epoch 64/100\n",
            "804/804 [==============================] - 1s 1ms/step - loss: 0.4029 - accuracy: 0.8071\n",
            "Epoch 65/100\n",
            "804/804 [==============================] - 1s 1ms/step - loss: 0.4026 - accuracy: 0.8063\n",
            "Epoch 66/100\n",
            "804/804 [==============================] - 1s 2ms/step - loss: 0.4026 - accuracy: 0.8077\n",
            "Epoch 67/100\n",
            "804/804 [==============================] - 1s 2ms/step - loss: 0.4023 - accuracy: 0.8069\n",
            "Epoch 68/100\n",
            "804/804 [==============================] - 2s 2ms/step - loss: 0.4021 - accuracy: 0.8072\n",
            "Epoch 69/100\n",
            "804/804 [==============================] - 1s 2ms/step - loss: 0.4017 - accuracy: 0.8079\n",
            "Epoch 70/100\n",
            "804/804 [==============================] - 1s 2ms/step - loss: 0.4021 - accuracy: 0.8078\n",
            "Epoch 71/100\n",
            "804/804 [==============================] - 1s 2ms/step - loss: 0.4021 - accuracy: 0.8077\n",
            "Epoch 72/100\n",
            "804/804 [==============================] - 1s 2ms/step - loss: 0.4015 - accuracy: 0.8082\n",
            "Epoch 73/100\n",
            "804/804 [==============================] - 1s 2ms/step - loss: 0.4019 - accuracy: 0.8081\n",
            "Epoch 74/100\n",
            "804/804 [==============================] - 2s 2ms/step - loss: 0.4014 - accuracy: 0.8080\n",
            "Epoch 75/100\n",
            "804/804 [==============================] - 1s 2ms/step - loss: 0.4016 - accuracy: 0.8071\n",
            "Epoch 76/100\n",
            "804/804 [==============================] - 1s 2ms/step - loss: 0.4013 - accuracy: 0.8077\n",
            "Epoch 77/100\n",
            "804/804 [==============================] - 1s 2ms/step - loss: 0.4015 - accuracy: 0.8081\n",
            "Epoch 78/100\n",
            "804/804 [==============================] - 1s 2ms/step - loss: 0.4014 - accuracy: 0.8083\n",
            "Epoch 79/100\n",
            "804/804 [==============================] - 2s 2ms/step - loss: 0.4009 - accuracy: 0.8077\n",
            "Epoch 80/100\n",
            "804/804 [==============================] - 2s 2ms/step - loss: 0.4013 - accuracy: 0.8080\n",
            "Epoch 81/100\n",
            "804/804 [==============================] - 1s 2ms/step - loss: 0.4015 - accuracy: 0.8078\n",
            "Epoch 82/100\n",
            "804/804 [==============================] - 1s 2ms/step - loss: 0.4015 - accuracy: 0.8081\n",
            "Epoch 83/100\n",
            "804/804 [==============================] - 2s 2ms/step - loss: 0.4015 - accuracy: 0.8081\n",
            "Epoch 84/100\n",
            "804/804 [==============================] - 2s 2ms/step - loss: 0.4017 - accuracy: 0.8074\n",
            "Epoch 85/100\n",
            "804/804 [==============================] - 1s 1ms/step - loss: 0.4011 - accuracy: 0.8080\n",
            "Epoch 86/100\n",
            "804/804 [==============================] - 1s 2ms/step - loss: 0.4012 - accuracy: 0.8085\n",
            "Epoch 87/100\n",
            "804/804 [==============================] - 1s 2ms/step - loss: 0.4014 - accuracy: 0.8089\n",
            "Epoch 88/100\n",
            "804/804 [==============================] - 1s 2ms/step - loss: 0.4010 - accuracy: 0.8080\n",
            "Epoch 89/100\n",
            "804/804 [==============================] - 1s 1ms/step - loss: 0.4014 - accuracy: 0.8076\n",
            "Epoch 90/100\n",
            "804/804 [==============================] - 1s 2ms/step - loss: 0.4009 - accuracy: 0.8083\n",
            "Epoch 91/100\n",
            "804/804 [==============================] - 1s 1ms/step - loss: 0.4007 - accuracy: 0.8084\n",
            "Epoch 92/100\n",
            "804/804 [==============================] - 1s 2ms/step - loss: 0.4006 - accuracy: 0.8084\n",
            "Epoch 93/100\n",
            "804/804 [==============================] - 1s 2ms/step - loss: 0.4012 - accuracy: 0.8088\n",
            "Epoch 94/100\n",
            "804/804 [==============================] - 1s 2ms/step - loss: 0.4012 - accuracy: 0.8082\n",
            "Epoch 95/100\n",
            "804/804 [==============================] - 1s 2ms/step - loss: 0.4004 - accuracy: 0.8072\n",
            "Epoch 96/100\n",
            "804/804 [==============================] - 1s 2ms/step - loss: 0.4012 - accuracy: 0.8079\n",
            "Epoch 97/100\n",
            "804/804 [==============================] - 1s 1ms/step - loss: 0.4013 - accuracy: 0.8085\n",
            "Epoch 98/100\n",
            "804/804 [==============================] - 1s 2ms/step - loss: 0.4011 - accuracy: 0.8081\n",
            "Epoch 99/100\n",
            "804/804 [==============================] - 1s 1ms/step - loss: 0.4008 - accuracy: 0.8085\n",
            "Epoch 100/100\n",
            "804/804 [==============================] - 1s 2ms/step - loss: 0.4008 - accuracy: 0.8086\n"
          ]
        }
      ],
      "source": [
        "# Train the model\n",
        "fit_model = nn.fit(X_train_scaled, y_train, epochs=100)"
      ]
    },
    {
      "cell_type": "code",
      "execution_count": 19,
      "metadata": {
        "colab": {
          "base_uri": "https://localhost:8080/"
        },
        "id": "v0myXmEyL35Z",
        "outputId": "4cb95322-61af-4784-bed9-313f830d6871"
      },
      "outputs": [
        {
          "name": "stdout",
          "output_type": "stream",
          "text": [
            "268/268 - 0s - loss: 0.4556 - accuracy: 0.7897 - 400ms/epoch - 1ms/step\n",
            "Loss: 0.4556396007537842, Accuracy: 0.7897375822067261\n"
          ]
        }
      ],
      "source": [
        "# Evaluate the model using the test data\n",
        "model_loss, model_accuracy = nn.evaluate(X_test_scaled,y_test,verbose=2)\n",
        "print(f\"Loss: {model_loss}, Accuracy: {model_accuracy}\")"
      ]
    },
    {
      "cell_type": "code",
      "execution_count": 20,
      "metadata": {
        "colab": {
          "base_uri": "https://localhost:8080/"
        },
        "id": "sRX_Yt8YME2e",
        "outputId": "af24d7c0-f7cf-4497-bafa-a9aa4504e2f7"
      },
      "outputs": [],
      "source": [
        "# Export our model to HDF5 file\n",
        "nn.save(\"AlphabetSoupCharity_Optimized.h5\")"
      ]
    },
    {
      "cell_type": "markdown",
      "metadata": {
        "id": "_cdhmS1UNGOz"
      },
      "source": [
        "USE A RANDOM FOREST CLASSIFIER ON THE DATASET"
      ]
    },
    {
      "cell_type": "code",
      "execution_count": 21,
      "metadata": {
        "id": "xUCz661oNE5e"
      },
      "outputs": [],
      "source": [
        "from sklearn.metrics import accuracy_score\n",
        "from sklearn.ensemble import RandomForestClassifier"
      ]
    },
    {
      "cell_type": "code",
      "execution_count": 22,
      "metadata": {
        "colab": {
          "base_uri": "https://localhost:8080/"
        },
        "id": "KkQYgnyYNRMU",
        "outputId": "443c8849-b641-4094-d7a8-b6e05784b1c2"
      },
      "outputs": [
        {
          "name": "stdout",
          "output_type": "stream",
          "text": [
            " Random forest model accuracy: 78.52\n"
          ]
        }
      ],
      "source": [
        "# Create a random forest classifier\n",
        "rf_model = RandomForestClassifier(n_estimators=128, random_state=78)\n",
        "\n",
        "# Fitting the model\n",
        "rf_model = rf_model.fit(X_train, y_train)\n",
        "\n",
        "# Evaluate the model\n",
        "y_pred = rf_model.predict(X_test_scaled)\n",
        "print(f\" Random forest model accuracy: {accuracy_score(y_test, y_pred)*100:.2f}\")"
      ]
    }
  ],
  "metadata": {
    "colab": {
      "provenance": []
    },
    "kernelspec": {
      "display_name": "dev",
      "language": "python",
      "name": "python3"
    },
    "language_info": {
      "codemirror_mode": {
        "name": "ipython",
        "version": 3
      },
      "file_extension": ".py",
      "mimetype": "text/x-python",
      "name": "python",
      "nbconvert_exporter": "python",
      "pygments_lexer": "ipython3",
      "version": "3.10.13"
    }
  },
  "nbformat": 4,
  "nbformat_minor": 0
}
